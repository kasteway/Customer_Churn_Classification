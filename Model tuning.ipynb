{
 "cells": [
  {
   "cell_type": "markdown",
   "id": "87d3f5d5",
   "metadata": {},
   "source": [
    "## Logistic Model Tuning"
   ]
  },
  {
   "cell_type": "markdown",
   "id": "1669befc",
   "metadata": {},
   "source": [
    "- Bank Customer Churn Data\n"
   ]
  },
  {
   "cell_type": "code",
   "execution_count": 40,
   "id": "9d52a998",
   "metadata": {},
   "outputs": [],
   "source": [
    "import pandas as pd\n",
    "import numpy as np\n",
    "import matplotlib.pyplot as plt\n",
    "import seaborn as sns\n",
    "\n",
    "plt.style.use('ggplot')\n",
    "%matplotlib inline\n",
    "np.set_printoptions(suppress=True) \n",
    "\n",
    "from sklearn import datasets\n",
    "from sklearn.neighbors import KNeighborsClassifier\n",
    "from sklearn.linear_model import LogisticRegression\n",
    "from sklearn.model_selection import train_test_split\n",
    "from sklearn.metrics import precision_score, recall_score, precision_recall_curve,f1_score, fbeta_score\n",
    "\n",
    "from sklearn.model_selection import StratifiedShuffleSplit, cross_val_score, cross_val_predict\n",
    "from sklearn.linear_model import LogisticRegression\n",
    "from sklearn.model_selection import cross_val_score\n",
    "from sklearn.model_selection import GridSearchCV\n",
    "from sklearn.preprocessing import StandardScaler\n",
    "from sklearn import svm\n",
    "from sklearn.ensemble import RandomForestClassifier\n",
    "from xgboost import XGBClassifier"
   ]
  },
  {
   "cell_type": "code",
   "execution_count": 5,
   "id": "b02039f9",
   "metadata": {},
   "outputs": [
    {
     "data": {
      "text/html": [
       "<div>\n",
       "<style scoped>\n",
       "    .dataframe tbody tr th:only-of-type {\n",
       "        vertical-align: middle;\n",
       "    }\n",
       "\n",
       "    .dataframe tbody tr th {\n",
       "        vertical-align: top;\n",
       "    }\n",
       "\n",
       "    .dataframe thead th {\n",
       "        text-align: right;\n",
       "    }\n",
       "</style>\n",
       "<table border=\"1\" class=\"dataframe\">\n",
       "  <thead>\n",
       "    <tr style=\"text-align: right;\">\n",
       "      <th></th>\n",
       "      <th>CreditScore</th>\n",
       "      <th>Age</th>\n",
       "      <th>Tenure</th>\n",
       "      <th>Balance</th>\n",
       "      <th>NumOfProducts</th>\n",
       "      <th>HasCrCard</th>\n",
       "      <th>IsActiveMember</th>\n",
       "      <th>EstimatedSalary</th>\n",
       "      <th>Exited</th>\n",
       "      <th>Gender_Male</th>\n",
       "      <th>Geography_Germany</th>\n",
       "      <th>Geography_Spain</th>\n",
       "    </tr>\n",
       "  </thead>\n",
       "  <tbody>\n",
       "    <tr>\n",
       "      <th>0</th>\n",
       "      <td>619</td>\n",
       "      <td>42</td>\n",
       "      <td>2</td>\n",
       "      <td>0.00</td>\n",
       "      <td>1</td>\n",
       "      <td>1</td>\n",
       "      <td>1</td>\n",
       "      <td>101348.88</td>\n",
       "      <td>1</td>\n",
       "      <td>0</td>\n",
       "      <td>0</td>\n",
       "      <td>0</td>\n",
       "    </tr>\n",
       "    <tr>\n",
       "      <th>1</th>\n",
       "      <td>608</td>\n",
       "      <td>41</td>\n",
       "      <td>1</td>\n",
       "      <td>83807.86</td>\n",
       "      <td>1</td>\n",
       "      <td>0</td>\n",
       "      <td>1</td>\n",
       "      <td>112542.58</td>\n",
       "      <td>0</td>\n",
       "      <td>0</td>\n",
       "      <td>0</td>\n",
       "      <td>1</td>\n",
       "    </tr>\n",
       "    <tr>\n",
       "      <th>2</th>\n",
       "      <td>502</td>\n",
       "      <td>42</td>\n",
       "      <td>8</td>\n",
       "      <td>159660.80</td>\n",
       "      <td>3</td>\n",
       "      <td>1</td>\n",
       "      <td>0</td>\n",
       "      <td>113931.57</td>\n",
       "      <td>1</td>\n",
       "      <td>0</td>\n",
       "      <td>0</td>\n",
       "      <td>0</td>\n",
       "    </tr>\n",
       "    <tr>\n",
       "      <th>3</th>\n",
       "      <td>699</td>\n",
       "      <td>39</td>\n",
       "      <td>1</td>\n",
       "      <td>0.00</td>\n",
       "      <td>2</td>\n",
       "      <td>0</td>\n",
       "      <td>0</td>\n",
       "      <td>93826.63</td>\n",
       "      <td>0</td>\n",
       "      <td>0</td>\n",
       "      <td>0</td>\n",
       "      <td>0</td>\n",
       "    </tr>\n",
       "    <tr>\n",
       "      <th>4</th>\n",
       "      <td>850</td>\n",
       "      <td>43</td>\n",
       "      <td>2</td>\n",
       "      <td>125510.82</td>\n",
       "      <td>1</td>\n",
       "      <td>1</td>\n",
       "      <td>1</td>\n",
       "      <td>79084.10</td>\n",
       "      <td>0</td>\n",
       "      <td>0</td>\n",
       "      <td>0</td>\n",
       "      <td>1</td>\n",
       "    </tr>\n",
       "  </tbody>\n",
       "</table>\n",
       "</div>"
      ],
      "text/plain": [
       "   CreditScore  Age  Tenure    Balance  NumOfProducts  HasCrCard  \\\n",
       "0          619   42       2       0.00              1          1   \n",
       "1          608   41       1   83807.86              1          0   \n",
       "2          502   42       8  159660.80              3          1   \n",
       "3          699   39       1       0.00              2          0   \n",
       "4          850   43       2  125510.82              1          1   \n",
       "\n",
       "   IsActiveMember  EstimatedSalary  Exited  Gender_Male  Geography_Germany  \\\n",
       "0               1        101348.88       1            0                  0   \n",
       "1               1        112542.58       0            0                  0   \n",
       "2               0        113931.57       1            0                  0   \n",
       "3               0         93826.63       0            0                  0   \n",
       "4               1         79084.10       0            0                  0   \n",
       "\n",
       "   Geography_Spain  \n",
       "0                0  \n",
       "1                1  \n",
       "2                0  \n",
       "3                0  \n",
       "4                1  "
      ]
     },
     "execution_count": 5,
     "metadata": {},
     "output_type": "execute_result"
    }
   ],
   "source": [
    "bank_churn = pd.read_csv('bankchurn.csv')\n",
    "bank_churn.head()"
   ]
  },
  {
   "cell_type": "code",
   "execution_count": 6,
   "id": "f0108296",
   "metadata": {
    "execution": {
     "iopub.execute_input": "2021-11-02T18:08:14.613954Z",
     "iopub.status.busy": "2021-11-02T18:08:14.613708Z",
     "iopub.status.idle": "2021-11-02T18:08:14.634333Z",
     "shell.execute_reply": "2021-11-02T18:08:14.633361Z",
     "shell.execute_reply.started": "2021-11-02T18:08:14.613925Z"
    }
   },
   "outputs": [],
   "source": [
    "split = StratifiedShuffleSplit(n_splits=1, test_size=0.2, random_state=42)\n",
    "\n",
    "for train_index, test_index in split.split(bank_churn, bank_churn['Exited']):\n",
    "    data_tr = bank_churn.loc[train_index]\n",
    "    data_tst = bank_churn.loc[test_index]"
   ]
  },
  {
   "cell_type": "code",
   "execution_count": 7,
   "id": "9ed57b9d",
   "metadata": {
    "execution": {
     "iopub.execute_input": "2021-11-02T18:08:14.635694Z",
     "iopub.status.busy": "2021-11-02T18:08:14.635446Z",
     "iopub.status.idle": "2021-11-02T18:08:14.643253Z",
     "shell.execute_reply": "2021-11-02T18:08:14.642350Z",
     "shell.execute_reply.started": "2021-11-02T18:08:14.635665Z"
    }
   },
   "outputs": [],
   "source": [
    "X_train = data_tr.drop(\"Exited\", axis=1)\n",
    "X_test = data_tst.drop(\"Exited\", axis=1)\n",
    "\n",
    "y_train = data_tr[\"Exited\"]\n",
    "y_test = data_tst[\"Exited\"]"
   ]
  },
  {
   "cell_type": "code",
   "execution_count": 9,
   "id": "7e7d9ed0",
   "metadata": {
    "execution": {
     "iopub.execute_input": "2022-01-07T13:45:41.457539Z",
     "iopub.status.busy": "2022-01-07T13:45:41.456759Z",
     "iopub.status.idle": "2022-01-07T13:45:41.465708Z",
     "shell.execute_reply": "2022-01-07T13:45:41.466228Z"
    },
    "executionInfo": {
     "elapsed": 311,
     "status": "ok",
     "timestamp": 1641560374278,
     "user": {
      "displayName": "Serhan ayberk Kılıç",
      "photoUrl": "https://lh3.googleusercontent.com/a-/AOh14GhOVufFo-MbXuMC6UMof_Bg79RPqejY3ayxYcsA6w=s64",
      "userId": "08804915627409896404"
     },
     "user_tz": -180
    },
    "id": "PKiv2c1-nnzN",
    "papermill": {
     "duration": 0.220481,
     "end_time": "2022-01-07T13:45:41.466398",
     "exception": false,
     "start_time": "2022-01-07T13:45:41.245917",
     "status": "completed"
    },
    "tags": []
   },
   "outputs": [],
   "source": [
    "\n",
    "sc=StandardScaler()\n",
    "\n",
    "x_sc=sc.fit_transform(X_train)\n",
    "x_sc=sc.fit_transform(X_test)"
   ]
  },
  {
   "cell_type": "markdown",
   "id": "d3c7a0ec",
   "metadata": {
    "id": "9LcuQWg4n6Uz",
    "papermill": {
     "duration": 0.207546,
     "end_time": "2022-01-07T13:45:41.880094",
     "exception": false,
     "start_time": "2022-01-07T13:45:41.672548",
     "status": "completed"
    },
    "tags": []
   },
   "source": [
    "# Models"
   ]
  },
  {
   "cell_type": "markdown",
   "id": "94282435",
   "metadata": {},
   "source": [
    "## KNN"
   ]
  },
  {
   "cell_type": "code",
   "execution_count": 37,
   "id": "6a1f31f9",
   "metadata": {},
   "outputs": [],
   "source": [
    "# define the parameter values that should be searched\n",
    "k_range = list(range(1, 31))\n",
    "weight_options = ['uniform', 'distance']"
   ]
  },
  {
   "cell_type": "code",
   "execution_count": 38,
   "id": "06039d3b",
   "metadata": {},
   "outputs": [
    {
     "name": "stdout",
     "output_type": "stream",
     "text": [
      "{'n_neighbors': [1, 2, 3, 4, 5, 6, 7, 8, 9, 10, 11, 12, 13, 14, 15, 16, 17, 18, 19, 20, 21, 22, 23, 24, 25, 26, 27, 28, 29, 30], 'weights': ['uniform', 'distance']}\n"
     ]
    }
   ],
   "source": [
    "# create a parameter grid: map the parameter names to the values that should be searched\n",
    "param_grid = dict(n_neighbors=k_range, weights=weight_options)\n",
    "print(param_grid)"
   ]
  },
  {
   "cell_type": "code",
   "execution_count": 39,
   "id": "0c1bb731",
   "metadata": {},
   "outputs": [
    {
     "data": {
      "text/plain": [
       "GridSearchCV(cv=10, estimator=KNeighborsClassifier(n_neighbors=30),\n",
       "             param_grid={'n_neighbors': [1, 2, 3, 4, 5, 6, 7, 8, 9, 10, 11, 12,\n",
       "                                         13, 14, 15, 16, 17, 18, 19, 20, 21, 22,\n",
       "                                         23, 24, 25, 26, 27, 28, 29, 30],\n",
       "                         'weights': ['uniform', 'distance']},\n",
       "             scoring='f1_weighted')"
      ]
     },
     "execution_count": 39,
     "metadata": {},
     "output_type": "execute_result"
    }
   ],
   "source": [
    "# instantiate and fit the grid\n",
    "grid = GridSearchCV(knn, param_grid, cv=10, scoring='f1_weighted')\n",
    "grid.fit(X_train, y_train)"
   ]
  },
  {
   "cell_type": "code",
   "execution_count": 40,
   "id": "eff0ac95",
   "metadata": {},
   "outputs": [
    {
     "name": "stdout",
     "output_type": "stream",
     "text": [
      "Best params:  {'n_neighbors': 7, 'weights': 'uniform'}\n",
      "Best estimator:  KNeighborsClassifier(n_neighbors=7)\n",
      "Best score:  0.7177557607709788\n"
     ]
    }
   ],
   "source": [
    "# examine the best model -- still 13 neighbors and uniform weights\n",
    "print(\"Best params: \", grid.best_params_)\n",
    "print(\"Best estimator: \", grid.best_estimator_)\n",
    "print(\"Best score: \", grid.best_score_)"
   ]
  },
  {
   "cell_type": "code",
   "execution_count": 52,
   "id": "a7018d04",
   "metadata": {},
   "outputs": [
    {
     "data": {
      "text/plain": [
       "KNeighborsClassifier(n_neighbors=7)"
      ]
     },
     "execution_count": 52,
     "metadata": {},
     "output_type": "execute_result"
    }
   ],
   "source": [
    "knn2 = KNeighborsClassifier(n_neighbors=7, weights='uniform')\n",
    "knn2.fit(X_train, y_train)"
   ]
  },
  {
   "cell_type": "code",
   "execution_count": 53,
   "id": "cb8a8129",
   "metadata": {},
   "outputs": [
    {
     "name": "stdout",
     "output_type": "stream",
     "text": [
      "KNN Train score: 80.5875\n"
     ]
    }
   ],
   "source": [
    "print('KNN Train score:',knn2.score(X_train,y_train)*100)"
   ]
  },
  {
   "cell_type": "code",
   "execution_count": null,
   "id": "29794730",
   "metadata": {},
   "outputs": [],
   "source": []
  },
  {
   "cell_type": "markdown",
   "id": "6bc2aefe",
   "metadata": {
    "id": "AtBjtXYWn7_p",
    "papermill": {
     "duration": 0.207901,
     "end_time": "2022-01-07T13:45:42.295473",
     "exception": false,
     "start_time": "2022-01-07T13:45:42.087572",
     "status": "completed"
    },
    "tags": []
   },
   "source": [
    "## Logistic Regression"
   ]
  },
  {
   "cell_type": "code",
   "execution_count": 15,
   "id": "20d69903",
   "metadata": {
    "execution": {
     "iopub.execute_input": "2022-01-07T13:45:42.713827Z",
     "iopub.status.busy": "2022-01-07T13:45:42.713080Z",
     "iopub.status.idle": "2022-01-07T13:45:45.039402Z",
     "shell.execute_reply": "2022-01-07T13:45:45.040397Z"
    },
    "executionInfo": {
     "elapsed": 2514,
     "status": "ok",
     "timestamp": 1641560452392,
     "user": {
      "displayName": "Serhan ayberk Kılıç",
      "photoUrl": "https://lh3.googleusercontent.com/a-/AOh14GhOVufFo-MbXuMC6UMof_Bg79RPqejY3ayxYcsA6w=s64",
      "userId": "08804915627409896404"
     },
     "user_tz": -180
    },
    "id": "tZocHQxhn3kc",
    "outputId": "3b941217-0bfe-46ce-d2d9-5d3e34161037",
    "papermill": {
     "duration": 2.538208,
     "end_time": "2022-01-07T13:45:45.040722",
     "exception": false,
     "start_time": "2022-01-07T13:45:42.502514",
     "status": "completed"
    },
    "tags": []
   },
   "outputs": [
    {
     "data": {
      "text/plain": [
       "LogisticRegression(max_iter=1000, random_state=42)"
      ]
     },
     "execution_count": 15,
     "metadata": {},
     "output_type": "execute_result"
    }
   ],
   "source": [
    "lm=LogisticRegression(random_state=42, max_iter=1000)\n",
    "lm.fit(X_train,y_train)\n"
   ]
  },
  {
   "cell_type": "code",
   "execution_count": 17,
   "id": "e591e5dd",
   "metadata": {},
   "outputs": [
    {
     "name": "stdout",
     "output_type": "stream",
     "text": [
      "Fitting 10 folds for each of 5 candidates, totalling 50 fits\n"
     ]
    }
   ],
   "source": [
    "parameters = {'C':[0.8,0.9,1,1.1,1.2]}\n",
    "\n",
    "lm_grid = GridSearchCV(lm, parameters,cv=10, verbose=1, n_jobs=-1).fit(X_train,y_train)\n"
   ]
  },
  {
   "cell_type": "code",
   "execution_count": 18,
   "id": "e871f5c1",
   "metadata": {},
   "outputs": [
    {
     "name": "stdout",
     "output_type": "stream",
     "text": [
      "Best parameters: {'C': 0.8}\n",
      "Logistic Regression Train score: 79.625\n",
      "Logistic Regression Cros validation score: 79.025\n"
     ]
    }
   ],
   "source": [
    "print('Best parameters:',lm_grid.best_params_)\n",
    "\n",
    "print('Logistic Regression Train score:',lm.score(X_train,y_train)*100)\n",
    "\n",
    "print('Logistic Regression Cros validation score:',lm_grid.best_score_*100)\n",
    "\n"
   ]
  },
  {
   "cell_type": "code",
   "execution_count": null,
   "id": "9617ed2e",
   "metadata": {},
   "outputs": [],
   "source": []
  },
  {
   "cell_type": "code",
   "execution_count": 21,
   "id": "0d49e375",
   "metadata": {
    "execution": {
     "iopub.execute_input": "2022-01-07T13:45:45.549267Z",
     "iopub.status.busy": "2022-01-07T13:45:45.548532Z",
     "iopub.status.idle": "2022-01-07T13:45:45.637438Z",
     "shell.execute_reply": "2022-01-07T13:45:45.638589Z"
    },
    "executionInfo": {
     "elapsed": 314,
     "status": "ok",
     "timestamp": 1641560469237,
     "user": {
      "displayName": "Serhan ayberk Kılıç",
      "photoUrl": "https://lh3.googleusercontent.com/a-/AOh14GhOVufFo-MbXuMC6UMof_Bg79RPqejY3ayxYcsA6w=s64",
      "userId": "08804915627409896404"
     },
     "user_tz": -180
    },
    "id": "EJ2wGAUxoFLZ",
    "outputId": "12225621-8885-42cd-fb41-2fcbc45dce55",
    "papermill": {
     "duration": 0.330318,
     "end_time": "2022-01-07T13:45:45.638912",
     "exception": false,
     "start_time": "2022-01-07T13:45:45.308594",
     "status": "completed"
    },
    "tags": []
   },
   "outputs": [
    {
     "name": "stdout",
     "output_type": "stream",
     "text": [
      "Logistic Regression Train score: 79.625\n"
     ]
    }
   ],
   "source": [
    "lm2=LogisticRegression(random_state=42, C=0.8)\n",
    "lm2.fit(X_train,y_train)\n",
    "print('Logistic Regression Train score:',lm2.score(X_train,y_train)*100)"
   ]
  },
  {
   "cell_type": "code",
   "execution_count": null,
   "id": "e9274345",
   "metadata": {},
   "outputs": [],
   "source": [
    "print('Logistic Regression Train score:',lm2.score(X_train,y_train)*100)"
   ]
  },
  {
   "cell_type": "code",
   "execution_count": null,
   "id": "f7f65f90",
   "metadata": {},
   "outputs": [],
   "source": []
  },
  {
   "cell_type": "markdown",
   "id": "5041c39f",
   "metadata": {
    "id": "AbVpUwimsPnZ",
    "papermill": {
     "duration": 0.212202,
     "end_time": "2022-01-07T13:50:46.343393",
     "exception": false,
     "start_time": "2022-01-07T13:50:46.131191",
     "status": "completed"
    },
    "tags": []
   },
   "source": [
    "## Random Forest"
   ]
  },
  {
   "cell_type": "code",
   "execution_count": null,
   "id": "c2c5d860",
   "metadata": {},
   "outputs": [],
   "source": []
  },
  {
   "cell_type": "code",
   "execution_count": 31,
   "id": "e729af1e",
   "metadata": {},
   "outputs": [],
   "source": [
    "rfc=RandomForestClassifier(n_jobs=-1)"
   ]
  },
  {
   "cell_type": "code",
   "execution_count": null,
   "id": "e0b80199",
   "metadata": {},
   "outputs": [],
   "source": []
  },
  {
   "cell_type": "code",
   "execution_count": 32,
   "id": "730079ec",
   "metadata": {},
   "outputs": [
    {
     "name": "stdout",
     "output_type": "stream",
     "text": [
      "Fitting 10 folds for each of 20 candidates, totalling 200 fits\n"
     ]
    }
   ],
   "source": [
    "parameters = {'n_estimators':[50,100,200,300,400],'max_depth':[3,4,5,6]}\n",
    "rfc_grid = GridSearchCV(rfc, parameters,cv=10,verbose=1,n_jobs=-1).fit(X_train,y_train)"
   ]
  },
  {
   "cell_type": "code",
   "execution_count": 34,
   "id": "65cb97fb",
   "metadata": {},
   "outputs": [
    {
     "name": "stdout",
     "output_type": "stream",
     "text": [
      "{'max_depth': 6, 'n_estimators': 50}\n",
      "Random Forest Classifier Cros validation score: 85.8\n"
     ]
    }
   ],
   "source": [
    "print(rfc_grid.best_params_)\n",
    "print('Random Forest Classifier Cros validation score:',rfc_grid.best_score_*100)"
   ]
  },
  {
   "cell_type": "code",
   "execution_count": null,
   "id": "5b3cd5af",
   "metadata": {},
   "outputs": [],
   "source": []
  },
  {
   "cell_type": "code",
   "execution_count": 36,
   "id": "3d4bf30f",
   "metadata": {
    "execution": {
     "iopub.execute_input": "2022-01-07T13:52:25.015196Z",
     "iopub.status.busy": "2022-01-07T13:52:25.014496Z",
     "iopub.status.idle": "2022-01-07T13:52:27.138179Z",
     "shell.execute_reply": "2022-01-07T13:52:27.138968Z"
    },
    "executionInfo": {
     "elapsed": 2508,
     "status": "ok",
     "timestamp": 1641561718099,
     "user": {
      "displayName": "Serhan ayberk Kılıç",
      "photoUrl": "https://lh3.googleusercontent.com/a-/AOh14GhOVufFo-MbXuMC6UMof_Bg79RPqejY3ayxYcsA6w=s64",
      "userId": "08804915627409896404"
     },
     "user_tz": -180
    },
    "id": "Iz7gcQxSsVii",
    "outputId": "8ed5c4dd-c08f-423e-9850-abe8833dd403",
    "papermill": {
     "duration": 2.347377,
     "end_time": "2022-01-07T13:52:27.139199",
     "exception": false,
     "start_time": "2022-01-07T13:52:24.791822",
     "status": "completed"
    },
    "tags": []
   },
   "outputs": [
    {
     "data": {
      "text/plain": [
       "RandomForestClassifier(max_depth=6, n_estimators=50, n_jobs=-1)"
      ]
     },
     "execution_count": 36,
     "metadata": {},
     "output_type": "execute_result"
    }
   ],
   "source": [
    "rfc2 = RandomForestClassifier(n_jobs=-1, n_estimators=50, max_depth=6)\n",
    "rfc2.fit(X_train,y_train)\n"
   ]
  },
  {
   "cell_type": "code",
   "execution_count": 38,
   "id": "c2c6bdcc",
   "metadata": {},
   "outputs": [
    {
     "name": "stdout",
     "output_type": "stream",
     "text": [
      "Random Forest Classifier Train score: 86.47500000000001\n"
     ]
    }
   ],
   "source": [
    "print('Random Forest Classifier Train score:',rfc2.score(X_train,y_train)*100)"
   ]
  },
  {
   "cell_type": "code",
   "execution_count": null,
   "id": "df141e21",
   "metadata": {},
   "outputs": [],
   "source": []
  },
  {
   "cell_type": "code",
   "execution_count": null,
   "id": "3971c982",
   "metadata": {},
   "outputs": [],
   "source": []
  },
  {
   "cell_type": "markdown",
   "id": "33f86841",
   "metadata": {
    "id": "s30APjmeuCUs",
    "papermill": {
     "duration": 0.213609,
     "end_time": "2022-01-07T13:52:27.566986",
     "exception": false,
     "start_time": "2022-01-07T13:52:27.353377",
     "status": "completed"
    },
    "tags": []
   },
   "source": [
    "## XGBoost"
   ]
  },
  {
   "cell_type": "code",
   "execution_count": 21,
   "id": "cb74e463",
   "metadata": {
    "execution": {
     "iopub.execute_input": "2022-01-07T13:52:28.005717Z",
     "iopub.status.busy": "2022-01-07T13:52:28.005034Z",
     "iopub.status.idle": "2022-01-07T13:56:20.424684Z",
     "shell.execute_reply": "2022-01-07T13:56:20.425156Z"
    },
    "executionInfo": {
     "elapsed": 126377,
     "status": "ok",
     "timestamp": 1641562139089,
     "user": {
      "displayName": "Serhan ayberk Kılıç",
      "photoUrl": "https://lh3.googleusercontent.com/a-/AOh14GhOVufFo-MbXuMC6UMof_Bg79RPqejY3ayxYcsA6w=s64",
      "userId": "08804915627409896404"
     },
     "user_tz": -180
    },
    "id": "oqZLjoZ2s_HO",
    "outputId": "2246b86b-20fe-4e6f-bf96-36b7ef68441f",
    "papermill": {
     "duration": 232.644345,
     "end_time": "2022-01-07T13:56:20.425374",
     "exception": false,
     "start_time": "2022-01-07T13:52:27.781029",
     "status": "completed"
    },
    "tags": []
   },
   "outputs": [
    {
     "name": "stdout",
     "output_type": "stream",
     "text": [
      "Fitting 10 folds for each of 24 candidates, totalling 240 fits\n"
     ]
    },
    {
     "name": "stderr",
     "output_type": "stream",
     "text": [
      "[Parallel(n_jobs=1)]: Using backend SequentialBackend with 1 concurrent workers.\n",
      "[Parallel(n_jobs=1)]: Done 240 out of 240 | elapsed:  3.8min finished\n"
     ]
    },
    {
     "name": "stdout",
     "output_type": "stream",
     "text": [
      "{'learning_rate': 0.1, 'max_depth': 3, 'n_estimators': 200}\n",
      "XGB Classifier Cros validation score: 86.38888888888889\n"
     ]
    }
   ],
   "source": [
    "print(xgb_grid.best_params_)\n",
    "print('XGB Classifier Cros validation score:',xgb_grid.best_score_*100)"
   ]
  },
  {
   "cell_type": "code",
   "execution_count": 22,
   "id": "2580e53a",
   "metadata": {
    "execution": {
     "iopub.execute_input": "2022-01-07T13:56:20.867549Z",
     "iopub.status.busy": "2022-01-07T13:56:20.866894Z",
     "iopub.status.idle": "2022-01-07T13:56:22.181744Z",
     "shell.execute_reply": "2022-01-07T13:56:22.182753Z"
    },
    "executionInfo": {
     "elapsed": 771,
     "status": "ok",
     "timestamp": 1641562157402,
     "user": {
      "displayName": "Serhan ayberk Kılıç",
      "photoUrl": "https://lh3.googleusercontent.com/a-/AOh14GhOVufFo-MbXuMC6UMof_Bg79RPqejY3ayxYcsA6w=s64",
      "userId": "08804915627409896404"
     },
     "user_tz": -180
    },
    "id": "oviv0DMluHpk",
    "outputId": "06c6daec-4b08-43b5-9f30-0b12efcc8668",
    "papermill": {
     "duration": 1.536605,
     "end_time": "2022-01-07T13:56:22.182961",
     "exception": false,
     "start_time": "2022-01-07T13:56:20.646356",
     "status": "completed"
    },
    "tags": []
   },
   "outputs": [
    {
     "name": "stdout",
     "output_type": "stream",
     "text": [
      "XGB Classifier Classifier Train score: 87.9\n"
     ]
    }
   ],
   "source": [
    "parameters = {'n_estimators':[25,50,100,200],'max_depth':[2,3,4,5,6,7,8],'learning_rate':[.5, 0.1,0.01]}\n",
    "xgb_grid = GridSearchCV(xgb, parameters, cv=10, verbose=1).fit(X_train,y_train)"
   ]
  },
  {
   "cell_type": "code",
   "execution_count": 43,
   "id": "8f415723",
   "metadata": {},
   "outputs": [],
   "source": [
    "xgb = XGBClassifier(n_jobs=-1, use_label_encoder=False, random_state=42, eval_metric='error')"
   ]
  },
  {
   "cell_type": "code",
   "execution_count": 49,
   "id": "59b00ddd",
   "metadata": {},
   "outputs": [
    {
     "name": "stderr",
     "output_type": "stream",
     "text": [
      "/Users/stay_one/opt/anaconda3/envs/metis/lib/python3.9/site-packages/xgboost/sklearn.py:1224: UserWarning: The use of label encoder in XGBClassifier is deprecated and will be removed in a future release. To remove this warning, do the following: 1) Pass option use_label_encoder=False when constructing XGBClassifier object; and 2) Encode your labels (y) as integers starting with 0, i.e. 0, 1, 2, ..., [num_class - 1].\n",
      "  warnings.warn(label_encoder_deprecation_msg, UserWarning)\n"
     ]
    },
    {
     "data": {
      "text/plain": [
       "XGBClassifier(base_score=0.5, booster='gbtree', colsample_bylevel=1,\n",
       "              colsample_bynode=1, colsample_bytree=1, enable_categorical=False,\n",
       "              eval_metric='error', gamma=0, gpu_id=-1, importance_type=None,\n",
       "              interaction_constraints='', learning_rate=0.1, max_delta_step=0,\n",
       "              max_depth=3, min_child_weight=1, missing=nan,\n",
       "              monotone_constraints='()', n_estimators=200, n_jobs=-1,\n",
       "              num_parallel_tree=1, predictor='auto', random_state=42,\n",
       "              reg_alpha=0, reg_lambda=1, scale_pos_weight=1, subsample=1,\n",
       "              tree_method='exact', validate_parameters=1, verbosity=None)"
      ]
     },
     "execution_count": 49,
     "metadata": {},
     "output_type": "execute_result"
    }
   ],
   "source": [
    "xgb2 = XGBClassifier(n_jobs=-1, random_state=42, n_estimators=200, max_depth=3, learning_rate=0.1, eval_metric='error')\n",
    "xgb2.fit(X_train,y_train)\n"
   ]
  },
  {
   "cell_type": "code",
   "execution_count": 50,
   "id": "ff562aab",
   "metadata": {},
   "outputs": [
    {
     "name": "stdout",
     "output_type": "stream",
     "text": [
      "XGB Classifier Classifier Train score: 87.675\n"
     ]
    }
   ],
   "source": [
    "print('XGB Classifier Classifier Train score:',xgb2.score(X_train,y_train)*100)"
   ]
  },
  {
   "cell_type": "code",
   "execution_count": null,
   "id": "4b9456f7",
   "metadata": {},
   "outputs": [],
   "source": []
  },
  {
   "cell_type": "code",
   "execution_count": null,
   "id": "a4e928f7",
   "metadata": {},
   "outputs": [],
   "source": []
  }
 ],
 "metadata": {
  "kernelspec": {
   "display_name": "Python [conda env:metis] *",
   "language": "python",
   "name": "conda-env-metis-py"
  },
  "language_info": {
   "codemirror_mode": {
    "name": "ipython",
    "version": 3
   },
   "file_extension": ".py",
   "mimetype": "text/x-python",
   "name": "python",
   "nbconvert_exporter": "python",
   "pygments_lexer": "ipython3",
   "version": "3.9.7"
  }
 },
 "nbformat": 4,
 "nbformat_minor": 5
}
