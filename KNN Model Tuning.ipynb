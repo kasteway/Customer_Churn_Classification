{
 "cells": [
  {
   "cell_type": "markdown",
   "metadata": {},
   "source": [
    "## KNN Model Tuning"
   ]
  },
  {
   "cell_type": "markdown",
   "metadata": {},
   "source": [
    "- Bank Customer Churn Data\n"
   ]
  },
  {
   "cell_type": "code",
   "execution_count": 15,
   "metadata": {},
   "outputs": [],
   "source": [
    "from __future__ import print_function"
   ]
  },
  {
   "cell_type": "code",
   "execution_count": 16,
   "metadata": {},
   "outputs": [],
   "source": [
    "# read in the iris data\n",
    "#from sklearn.datasets import load_iris\n",
    "from sklearn.neighbors import KNeighborsClassifier\n",
    "from sklearn import metrics\n",
    "import pandas as pd"
   ]
  },
  {
   "cell_type": "code",
   "execution_count": 17,
   "metadata": {},
   "outputs": [
    {
     "data": {
      "text/html": [
       "<div>\n",
       "<style scoped>\n",
       "    .dataframe tbody tr th:only-of-type {\n",
       "        vertical-align: middle;\n",
       "    }\n",
       "\n",
       "    .dataframe tbody tr th {\n",
       "        vertical-align: top;\n",
       "    }\n",
       "\n",
       "    .dataframe thead th {\n",
       "        text-align: right;\n",
       "    }\n",
       "</style>\n",
       "<table border=\"1\" class=\"dataframe\">\n",
       "  <thead>\n",
       "    <tr style=\"text-align: right;\">\n",
       "      <th></th>\n",
       "      <th>Age</th>\n",
       "      <th>Tenure</th>\n",
       "      <th>Balance</th>\n",
       "      <th>NumOfProducts</th>\n",
       "      <th>HasCrCard</th>\n",
       "      <th>IsActiveMember</th>\n",
       "      <th>EstimatedSalary</th>\n",
       "      <th>Exited</th>\n",
       "      <th>Gender_Male</th>\n",
       "      <th>Geography_Germany</th>\n",
       "      <th>Geography_Spain</th>\n",
       "      <th>CreditScoreTable_1</th>\n",
       "      <th>CreditScoreTable_2</th>\n",
       "      <th>CreditScoreTable_3</th>\n",
       "      <th>CreditScoreTable_4</th>\n",
       "    </tr>\n",
       "  </thead>\n",
       "  <tbody>\n",
       "    <tr>\n",
       "      <th>0</th>\n",
       "      <td>42</td>\n",
       "      <td>2</td>\n",
       "      <td>0.00</td>\n",
       "      <td>1</td>\n",
       "      <td>1</td>\n",
       "      <td>1</td>\n",
       "      <td>101348.88</td>\n",
       "      <td>1</td>\n",
       "      <td>0</td>\n",
       "      <td>0</td>\n",
       "      <td>0</td>\n",
       "      <td>1</td>\n",
       "      <td>0</td>\n",
       "      <td>0</td>\n",
       "      <td>0</td>\n",
       "    </tr>\n",
       "    <tr>\n",
       "      <th>1</th>\n",
       "      <td>41</td>\n",
       "      <td>1</td>\n",
       "      <td>83807.86</td>\n",
       "      <td>1</td>\n",
       "      <td>0</td>\n",
       "      <td>1</td>\n",
       "      <td>112542.58</td>\n",
       "      <td>0</td>\n",
       "      <td>0</td>\n",
       "      <td>0</td>\n",
       "      <td>1</td>\n",
       "      <td>1</td>\n",
       "      <td>0</td>\n",
       "      <td>0</td>\n",
       "      <td>0</td>\n",
       "    </tr>\n",
       "    <tr>\n",
       "      <th>2</th>\n",
       "      <td>42</td>\n",
       "      <td>8</td>\n",
       "      <td>159660.80</td>\n",
       "      <td>3</td>\n",
       "      <td>1</td>\n",
       "      <td>0</td>\n",
       "      <td>113931.57</td>\n",
       "      <td>1</td>\n",
       "      <td>0</td>\n",
       "      <td>0</td>\n",
       "      <td>0</td>\n",
       "      <td>0</td>\n",
       "      <td>0</td>\n",
       "      <td>0</td>\n",
       "      <td>0</td>\n",
       "    </tr>\n",
       "    <tr>\n",
       "      <th>3</th>\n",
       "      <td>39</td>\n",
       "      <td>1</td>\n",
       "      <td>0.00</td>\n",
       "      <td>2</td>\n",
       "      <td>0</td>\n",
       "      <td>0</td>\n",
       "      <td>93826.63</td>\n",
       "      <td>0</td>\n",
       "      <td>0</td>\n",
       "      <td>0</td>\n",
       "      <td>0</td>\n",
       "      <td>0</td>\n",
       "      <td>1</td>\n",
       "      <td>0</td>\n",
       "      <td>0</td>\n",
       "    </tr>\n",
       "    <tr>\n",
       "      <th>4</th>\n",
       "      <td>43</td>\n",
       "      <td>2</td>\n",
       "      <td>125510.82</td>\n",
       "      <td>1</td>\n",
       "      <td>1</td>\n",
       "      <td>1</td>\n",
       "      <td>79084.10</td>\n",
       "      <td>0</td>\n",
       "      <td>0</td>\n",
       "      <td>0</td>\n",
       "      <td>1</td>\n",
       "      <td>0</td>\n",
       "      <td>0</td>\n",
       "      <td>0</td>\n",
       "      <td>1</td>\n",
       "    </tr>\n",
       "  </tbody>\n",
       "</table>\n",
       "</div>"
      ],
      "text/plain": [
       "   Age  Tenure    Balance  NumOfProducts  HasCrCard  IsActiveMember  \\\n",
       "0   42       2       0.00              1          1               1   \n",
       "1   41       1   83807.86              1          0               1   \n",
       "2   42       8  159660.80              3          1               0   \n",
       "3   39       1       0.00              2          0               0   \n",
       "4   43       2  125510.82              1          1               1   \n",
       "\n",
       "   EstimatedSalary  Exited  Gender_Male  Geography_Germany  Geography_Spain  \\\n",
       "0        101348.88       1            0                  0                0   \n",
       "1        112542.58       0            0                  0                1   \n",
       "2        113931.57       1            0                  0                0   \n",
       "3         93826.63       0            0                  0                0   \n",
       "4         79084.10       0            0                  0                1   \n",
       "\n",
       "   CreditScoreTable_1  CreditScoreTable_2  CreditScoreTable_3  \\\n",
       "0                   1                   0                   0   \n",
       "1                   1                   0                   0   \n",
       "2                   0                   0                   0   \n",
       "3                   0                   1                   0   \n",
       "4                   0                   0                   0   \n",
       "\n",
       "   CreditScoreTable_4  \n",
       "0                   0  \n",
       "1                   0  \n",
       "2                   0  \n",
       "3                   0  \n",
       "4                   1  "
      ]
     },
     "execution_count": 17,
     "metadata": {},
     "output_type": "execute_result"
    }
   ],
   "source": [
    "churn = pd.read_csv('bankchurnFeatureEngine.csv')\n",
    "churn.head()"
   ]
  },
  {
   "cell_type": "code",
   "execution_count": 18,
   "metadata": {},
   "outputs": [
    {
     "data": {
      "text/plain": [
       "Index(['Age', 'Tenure', 'Balance', 'NumOfProducts', 'HasCrCard',\n",
       "       'IsActiveMember', 'EstimatedSalary', 'Exited', 'Gender_Male',\n",
       "       'Geography_Germany', 'Geography_Spain', 'CreditScoreTable_1',\n",
       "       'CreditScoreTable_2', 'CreditScoreTable_3', 'CreditScoreTable_4'],\n",
       "      dtype='object')"
      ]
     },
     "execution_count": 18,
     "metadata": {},
     "output_type": "execute_result"
    }
   ],
   "source": [
    "churn.columns"
   ]
  },
  {
   "cell_type": "code",
   "execution_count": 19,
   "metadata": {},
   "outputs": [],
   "source": [
    "# create X (features) and y (response)\n",
    "X = churn.drop('Exited',axis=1)\n",
    "y = churn.Exited"
   ]
  },
  {
   "cell_type": "markdown",
   "metadata": {},
   "source": [
    "## Model evaluation procedures"
   ]
  },
  {
   "cell_type": "markdown",
   "metadata": {},
   "source": [
    "**Motivation:** Need a way to choose between machine learning models\n",
    "\n",
    "- Goal is to estimate likely performance of a model on **out-of-sample data**"
   ]
  },
  {
   "cell_type": "markdown",
   "metadata": {},
   "source": [
    "## Evaluation procedure #1: Train/test split"
   ]
  },
  {
   "cell_type": "markdown",
   "metadata": {},
   "source": [
    "1. Split the dataset into two pieces: a **training set** and a **testing set**\n",
    "2. Train the model on the **training set**.\n",
    "3. Test the model on the **testing set**, and evaluate how well we did."
   ]
  },
  {
   "cell_type": "code",
   "execution_count": 20,
   "metadata": {},
   "outputs": [
    {
     "name": "stdout",
     "output_type": "stream",
     "text": [
      "(10000, 14)\n",
      "(10000,)\n"
     ]
    }
   ],
   "source": [
    "# print the shapes of X and y\n",
    "print(X.shape)\n",
    "print(y.shape)"
   ]
  },
  {
   "cell_type": "code",
   "execution_count": 21,
   "metadata": {},
   "outputs": [],
   "source": [
    "# STEP 1: split X and y into training and testing sets\n",
    "from sklearn.model_selection import train_test_split\n",
    "X_train, X_test, y_train, y_test = train_test_split(X, y, test_size=0.4, random_state=42)"
   ]
  },
  {
   "cell_type": "markdown",
   "metadata": {},
   "source": [
    "What did this accomplish?\n",
    "\n",
    "- Model can be trained and tested on **different data**\n",
    "- Response values are known for the testing set, and thus **predictions can be evaluated**\n",
    "- **Testing accuracy** is a better estimate than training accuracy of out-of-sample performance"
   ]
  },
  {
   "cell_type": "code",
   "execution_count": 22,
   "metadata": {},
   "outputs": [
    {
     "name": "stdout",
     "output_type": "stream",
     "text": [
      "(6000, 14)\n",
      "(4000, 14)\n"
     ]
    }
   ],
   "source": [
    "# print the shapes of the new X objects\n",
    "print(X_train.shape)\n",
    "print(X_test.shape)"
   ]
  },
  {
   "cell_type": "code",
   "execution_count": 23,
   "metadata": {},
   "outputs": [
    {
     "name": "stdout",
     "output_type": "stream",
     "text": [
      "(6000,)\n",
      "(4000,)\n"
     ]
    }
   ],
   "source": [
    "# print the shapes of the new y objects\n",
    "print(y_train.shape)\n",
    "print(y_test.shape)"
   ]
  },
  {
   "cell_type": "code",
   "execution_count": 24,
   "metadata": {},
   "outputs": [
    {
     "name": "stdout",
     "output_type": "stream",
     "text": [
      "0.7126625818186646\n"
     ]
    }
   ],
   "source": [
    "# Train on training set, and Test on testing set\n",
    "knn = KNeighborsClassifier(n_neighbors=5)\n",
    "knn.fit(X_train, y_train)\n",
    "y_pred = knn.predict(X_test)\n",
    "#print(metrics.accuracy_score(y_test, y_pred))\n",
    "print(metrics.f1_score(y_test, y_pred, average='weighted'))\n"
   ]
  },
  {
   "cell_type": "markdown",
   "metadata": {},
   "source": [
    "However, it provides a **high variance** estimate since changing which observations happen to be in the testing set can significantly change testing accuracy"
   ]
  },
  {
   "cell_type": "markdown",
   "metadata": {},
   "source": [
    "## Evaluation procedure #2: Cross Validation"
   ]
  },
  {
   "cell_type": "markdown",
   "metadata": {},
   "source": [
    "Steps for cross-validation:\n",
    "\n",
    "- Dataset is split into K \"folds\" of **equal size**\n",
    "- Each fold acts as the **testing set** 1 time, and acts as the **training set** K-1 times\n",
    "- **Average testing performance** is used as the estimate of out-of-sample performance\n",
    "\n",
    "Benefits of cross-validation:\n",
    "\n",
    "- More **reliable** estimate of out-of-sample performance than train/test split\n",
    "- Can be used for selecting **tuning parameters**, choosing between **models**, and selecting **features**\n",
    "\n",
    "Drawbacks of cross-validation:\n",
    "\n",
    "- Can be computationally **expensive**"
   ]
  },
  {
   "cell_type": "markdown",
   "metadata": {},
   "source": [
    "## Steps for K-fold cross-validation"
   ]
  },
  {
   "cell_type": "markdown",
   "metadata": {},
   "source": [
    "1. Split the dataset into K **equal** partitions (or \"folds\").\n",
    "2. Use fold 1 as the **testing set** and the union of the other folds as the **training set**.\n",
    "3. Calculate **testing accuracy**.\n",
    "4. Repeat steps 2 and 3 K times, using a **different fold** as the testing set each time.\n",
    "5. Use the **average testing accuracy** as the estimate of out-of-sample accuracy."
   ]
  },
  {
   "cell_type": "markdown",
   "metadata": {},
   "source": [
    "## Cross-validation example: parameter tuning"
   ]
  },
  {
   "cell_type": "code",
   "execution_count": 25,
   "metadata": {},
   "outputs": [],
   "source": [
    "from sklearn.model_selection import cross_val_score"
   ]
  },
  {
   "cell_type": "code",
   "execution_count": 26,
   "metadata": {},
   "outputs": [
    {
     "name": "stdout",
     "output_type": "stream",
     "text": [
      "[0.71124794 0.72461512 0.69799274 0.72039563 0.72229636 0.71366427\n",
      " 0.71063007 0.7089618  0.73258169 0.71264065]\n"
     ]
    }
   ],
   "source": [
    "# 10-fold cross-validation with K=5 for KNN (the n_neighbors parameter)\n",
    "knn = KNeighborsClassifier(n_neighbors=5)\n",
    "scores = cross_val_score(knn, X, y, cv=10, scoring='f1_weighted')\n",
    "\n",
    "print(scores)"
   ]
  },
  {
   "cell_type": "code",
   "execution_count": 27,
   "metadata": {},
   "outputs": [
    {
     "name": "stdout",
     "output_type": "stream",
     "text": [
      "0.7155026271438686\n"
     ]
    }
   ],
   "source": [
    "# use average accuracy as an estimate of out-of-sample accuracy\n",
    "print(scores.mean())"
   ]
  },
  {
   "cell_type": "code",
   "execution_count": 28,
   "metadata": {},
   "outputs": [
    {
     "name": "stdout",
     "output_type": "stream",
     "text": [
      "[0.6831227559989694, 0.7114659630613471, 0.7053655897316665, 0.7131516567495819, 0.7155026271438686, 0.7155071081905282, 0.7177557607709788, 0.7111469805111588, 0.7146050943840374, 0.7123669791261819, 0.7139070359554341, 0.7104462009667191, 0.7109398659865451, 0.709136891692996, 0.7092582890018436, 0.7078707355142422, 0.7094037849504093, 0.7087220905305001, 0.7101780042402399, 0.7093360076201066, 0.7095736465928162, 0.7081067167682804, 0.7085546258023505, 0.70760261727072, 0.7082112126035663, 0.7072798718478233, 0.7070792640340728, 0.7066645330200397, 0.7071800897493784, 0.7060900673689497]\n"
     ]
    }
   ],
   "source": [
    "# search for an optimal value of K for KNN\n",
    "k_range = list(range(1, 31))\n",
    "k_scores = []\n",
    "for k in k_range:\n",
    "    knn = KNeighborsClassifier(n_neighbors=k)\n",
    "    scores = cross_val_score(knn, X, y, cv=10, scoring='f1_weighted')\n",
    "    k_scores.append(scores.mean())\n",
    "print(k_scores)"
   ]
  },
  {
   "cell_type": "code",
   "execution_count": 29,
   "metadata": {},
   "outputs": [
    {
     "data": {
      "text/plain": [
       "Text(0, 0.5, 'Cross-Validated f1_Weighted')"
      ]
     },
     "execution_count": 29,
     "metadata": {},
     "output_type": "execute_result"
    },
    {
     "data": {
      "image/png": "[encoded data removed]",
      "text/plain": [
       "<Figure size 432x288 with 1 Axes>"
      ]
     },
     "metadata": {
      "needs_background": "light"
     },
     "output_type": "display_data"
    }
   ],
   "source": [
    "import matplotlib.pyplot as plt\n",
    "%matplotlib inline\n",
    "\n",
    "# plot the value of K for KNN (x-axis) versus the cross-validated accuracy (y-axis)\n",
    "plt.plot(k_range, k_scores)\n",
    "plt.xlabel('Value of K for KNN')\n",
    "plt.ylabel('Cross-Validated f1_Weighted')"
   ]
  },
  {
   "cell_type": "markdown",
   "metadata": {},
   "source": [
    "## Improvements to cross-validation"
   ]
  },
  {
   "cell_type": "markdown",
   "metadata": {},
   "source": [
    "**Repeated cross-validation**\n",
    "\n",
    "- Repeat cross-validation multiple times (with **different random splits** of the data) and average the results\n",
    "- More reliable estimate of out-of-sample performance by **reducing the variance** associated with a single trial of cross-validation\n",
    "\n",
    "**Creating a hold-out set**\n",
    "\n",
    "- \"Hold out\" a portion of the data **before** beginning the model building process\n",
    "- Locate the best model using cross-validation on the remaining data, and test it **using the hold-out set**\n",
    "- More reliable estimate of out-of-sample performance since hold-out set is **truly out-of-sample**\n"
   ]
  },
  {
   "cell_type": "markdown",
   "metadata": {},
   "source": [
    "## More efficient parameter tuning using `GridSearchCV`"
   ]
  },
  {
   "cell_type": "code",
   "execution_count": 30,
   "metadata": {},
   "outputs": [],
   "source": [
    "from sklearn.model_selection import GridSearchCV"
   ]
  },
  {
   "cell_type": "code",
   "execution_count": 31,
   "metadata": {},
   "outputs": [
    {
     "name": "stdout",
     "output_type": "stream",
     "text": [
      "[1, 2, 3, 4, 5, 6, 7, 8, 9, 10, 11, 12, 13, 14, 15, 16, 17, 18, 19, 20, 21, 22, 23, 24, 25, 26, 27, 28, 29, 30, 31, 32, 33, 34, 35, 36, 37, 38, 39, 40, 41, 42, 43, 44, 45, 46, 47, 48, 49, 50, 51, 52, 53, 54, 55, 56, 57, 58, 59, 60, 61, 62, 63, 64, 65, 66, 67, 68, 69, 70, 71, 72, 73, 74, 75, 76, 77, 78, 79, 80, 81, 82, 83, 84, 85, 86, 87, 88, 89, 90, 91, 92, 93, 94, 95, 96, 97, 98, 99]\n"
     ]
    }
   ],
   "source": [
    "# define the parameter values that should be searched\n",
    "k_range = list(range(1, 100))\n",
    "print(k_range)"
   ]
  },
  {
   "cell_type": "code",
   "execution_count": 32,
   "metadata": {},
   "outputs": [
    {
     "name": "stdout",
     "output_type": "stream",
     "text": [
      "{'n_neighbors': [1, 2, 3, 4, 5, 6, 7, 8, 9, 10, 11, 12, 13, 14, 15, 16, 17, 18, 19, 20, 21, 22, 23, 24, 25, 26, 27, 28, 29, 30, 31, 32, 33, 34, 35, 36, 37, 38, 39, 40, 41, 42, 43, 44, 45, 46, 47, 48, 49, 50, 51, 52, 53, 54, 55, 56, 57, 58, 59, 60, 61, 62, 63, 64, 65, 66, 67, 68, 69, 70, 71, 72, 73, 74, 75, 76, 77, 78, 79, 80, 81, 82, 83, 84, 85, 86, 87, 88, 89, 90, 91, 92, 93, 94, 95, 96, 97, 98, 99]}\n"
     ]
    }
   ],
   "source": [
    "# create a parameter grid: map the parameter names to the values that should be searched\n",
    "param_grid = dict(n_neighbors=k_range)\n",
    "print(param_grid)"
   ]
  },
  {
   "cell_type": "code",
   "execution_count": 33,
   "metadata": {},
   "outputs": [],
   "source": [
    "# instantiate the grid\n",
    "grid = GridSearchCV(knn, param_grid, cv=10, scoring='f1_weighted')"
   ]
  },
  {
   "cell_type": "code",
   "execution_count": 34,
   "metadata": {},
   "outputs": [],
   "source": [
    "# fit the grid with data\n",
    "grid.fit(X, y);"
   ]
  },
  {
   "cell_type": "code",
   "execution_count": 35,
   "metadata": {
    "scrolled": true
   },
   "outputs": [
    {
     "data": {
      "text/plain": [
       "{'mean_fit_time': array([0.00871861, 0.0073278 , 0.00734479, 0.0072619 , 0.00727856,\n",
       "        0.0073468 , 0.00732596, 0.00727646, 0.00727649, 0.00738394,\n",
       "        0.00743268, 0.00734618, 0.00731461, 0.00731187, 0.00726817,\n",
       "        0.00727773, 0.00728447, 0.00729549, 0.00727799, 0.00727358,\n",
       "        0.00730956, 0.00727549, 0.00727155, 0.00733211, 0.00729434,\n",
       "        0.00727954, 0.00727808, 0.00730062, 0.00727696, 0.00727386,\n",
       "        0.00728722, 0.00728137, 0.00727456, 0.00727329, 0.00730379,\n",
       "        0.00727704, 0.00728331, 0.00738306, 0.00729928, 0.0072865 ,\n",
       "        0.00729725, 0.00728819, 0.00728636, 0.00736618, 0.00730913,\n",
       "        0.00730264, 0.00730262, 0.0073086 , 0.00731497, 0.00729251,\n",
       "        0.00732236, 0.00732379, 0.0072861 , 0.00730307, 0.00729277,\n",
       "        0.00729148, 0.00731277, 0.00730743, 0.00730004, 0.00733931,\n",
       "        0.00729983, 0.00730066, 0.00738857, 0.00730734, 0.00731075,\n",
       "        0.00735707, 0.00731637, 0.00729599, 0.00738335, 0.00731108,\n",
       "        0.00729697, 0.00733759, 0.00730383, 0.00730374, 0.00743449,\n",
       "        0.00730562, 0.00730677, 0.00734925, 0.00732903, 0.00733263,\n",
       "        0.00733035, 0.00730314, 0.0073035 , 0.00730038, 0.00730281,\n",
       "        0.00730212, 0.00731003, 0.00730603, 0.00732386, 0.00730515,\n",
       "        0.0072973 , 0.00733018, 0.0073019 , 0.00732493, 0.0073241 ,\n",
       "        0.00732358, 0.00732481, 0.00730948, 0.00730138]),\n",
       " 'std_fit_time': array([3.37277111e-03, 6.86066602e-05, 1.09021861e-04, 2.01753966e-05,\n",
       "        3.52461774e-05, 1.30872953e-04, 7.32953971e-05, 1.87758378e-05,\n",
       "        1.42181455e-05, 2.59980877e-04, 1.26965424e-04, 1.03328282e-04,\n",
       "        4.04581717e-05, 6.17615310e-05, 2.23161446e-05, 3.06445327e-05,\n",
       "        3.41201977e-05, 3.09085114e-05, 1.88040931e-05, 1.49935528e-05,\n",
       "        3.03557040e-05, 2.01891974e-05, 1.98144200e-05, 1.41379984e-04,\n",
       "        2.54536930e-05, 1.76030429e-05, 2.14073465e-05, 3.42457396e-05,\n",
       "        2.25001463e-05, 2.27008545e-05, 3.31020479e-05, 2.01290948e-05,\n",
       "        2.42801084e-05, 1.86287774e-05, 3.80015657e-05, 2.57905544e-05,\n",
       "        1.58662862e-05, 2.62949100e-04, 2.53294803e-05, 1.90921930e-05,\n",
       "        3.74601721e-05, 2.32749414e-05, 1.86396371e-05, 1.90658077e-04,\n",
       "        2.16858835e-05, 1.78630258e-05, 2.30320739e-05, 4.70665389e-05,\n",
       "        9.69265685e-05, 2.96981900e-05, 4.85170737e-05, 5.50448349e-05,\n",
       "        1.99832463e-05, 4.33427731e-05, 1.99097216e-05, 2.28377248e-05,\n",
       "        5.00363296e-05, 3.77095294e-05, 2.92521622e-05, 9.21184137e-05,\n",
       "        2.13240196e-05, 2.08481473e-05, 2.23408271e-04, 2.75056520e-05,\n",
       "        2.12669506e-05, 8.48925367e-05, 2.76794524e-05, 1.90135491e-05,\n",
       "        1.78136017e-04, 2.11863987e-05, 1.31368637e-05, 7.55009153e-05,\n",
       "        2.53142267e-05, 2.08614077e-05, 3.04547708e-04, 2.30236317e-05,\n",
       "        2.71195868e-05, 7.70502306e-05, 4.70313266e-05, 6.64272028e-05,\n",
       "        7.17543321e-05, 1.62845998e-05, 3.05610306e-05, 2.00563740e-05,\n",
       "        2.36824908e-05, 2.54054099e-05, 2.10711988e-05, 1.86116360e-05,\n",
       "        5.89675472e-05, 2.67241598e-05, 1.95504543e-05, 5.96356311e-05,\n",
       "        2.33777167e-05, 3.22323931e-05, 2.25282850e-05, 1.97709388e-05,\n",
       "        4.28707169e-05, 2.28404003e-05, 1.53471208e-05]),\n",
       " 'mean_score_time': array([0.01949291, 0.01854115, 0.01862814, 0.01864736, 0.01882634,\n",
       "        0.01923072, 0.01916673, 0.01916456, 0.01928341, 0.0197295 ,\n",
       "        0.02000594, 0.01979918, 0.01996202, 0.01994514, 0.01992147,\n",
       "        0.02009346, 0.02025266, 0.02034504, 0.02046828, 0.0205126 ,\n",
       "        0.0208755 , 0.02075379, 0.02091784, 0.0211422 , 0.02119582,\n",
       "        0.02129622, 0.02140927, 0.0216749 , 0.02169003, 0.02176785,\n",
       "        0.02193966, 0.02203245, 0.0221606 , 0.02238026, 0.02250857,\n",
       "        0.02256739, 0.02278979, 0.02301159, 0.02301185, 0.02313809,\n",
       "        0.0232388 , 0.02330017, 0.0234226 , 0.02365377, 0.02367737,\n",
       "        0.02380223, 0.0239244 , 0.02407467, 0.02429566, 0.02423906,\n",
       "        0.02458506, 0.02447484, 0.02454898, 0.02480917, 0.02485299,\n",
       "        0.02493603, 0.02513289, 0.02520022, 0.02530539, 0.02549355,\n",
       "        0.02545936, 0.02562976, 0.02607546, 0.02594101, 0.02607272,\n",
       "        0.02623379, 0.02619669, 0.02628844, 0.02648396, 0.02650476,\n",
       "        0.02666683, 0.0269896 , 0.02696068, 0.02707448, 0.02745507,\n",
       "        0.02734225, 0.027439  , 0.02772298, 0.02777216, 0.02791955,\n",
       "        0.0278851 , 0.02797649, 0.02806444, 0.02815976, 0.02828641,\n",
       "        0.02844579, 0.02853358, 0.02858174, 0.02872403, 0.02881327,\n",
       "        0.02891653, 0.02926018, 0.02909749, 0.02946699, 0.0295311 ,\n",
       "        0.02964792, 0.02975376, 0.02969384, 0.02981894]),\n",
       " 'std_score_time': array([4.03205074e-03, 1.55756936e-04, 1.63054550e-04, 5.87259420e-05,\n",
       "        1.42050030e-04, 4.59886860e-04, 8.95841401e-05, 8.60905026e-05,\n",
       "        7.65302285e-05, 4.64205948e-04, 3.29232733e-04, 2.14418454e-04,\n",
       "        4.11215762e-04, 9.01156630e-05, 5.92714582e-05, 8.42651301e-05,\n",
       "        1.18055569e-04, 6.60891012e-05, 8.77777300e-05, 6.24315746e-05,\n",
       "        1.45923732e-04, 6.10412142e-05, 7.28715613e-05, 2.62637210e-04,\n",
       "        5.51439084e-05, 7.84991714e-05, 6.27599040e-05, 3.05106603e-04,\n",
       "        6.41927314e-05, 5.84454347e-05, 1.08378761e-04, 6.02992403e-05,\n",
       "        9.21420444e-05, 5.34096531e-04, 8.67179732e-05, 5.44716540e-05,\n",
       "        6.56159854e-05, 2.21879846e-04, 7.12037835e-05, 4.94651388e-05,\n",
       "        8.08827571e-05, 5.06762602e-05, 6.01743414e-05, 1.77246197e-04,\n",
       "        9.45486114e-05, 8.70056527e-05, 1.29310457e-04, 1.20935072e-04,\n",
       "        6.03583860e-04, 5.52111747e-05, 5.43754985e-04, 8.43213712e-05,\n",
       "        3.96614806e-05, 3.02975700e-04, 1.42696856e-04, 8.64002121e-05,\n",
       "        3.05676441e-04, 8.75373026e-05, 9.68607719e-05, 3.19269257e-04,\n",
       "        6.53259989e-05, 6.71187894e-05, 4.63888931e-04, 6.66014737e-05,\n",
       "        1.03515925e-04, 2.68858729e-04, 8.88829739e-05, 9.32670840e-05,\n",
       "        2.15228965e-04, 8.97140950e-05, 8.07570431e-05, 3.50730427e-04,\n",
       "        7.16927522e-05, 5.53182690e-05, 3.42468890e-04, 7.68129051e-05,\n",
       "        9.57391320e-05, 2.18730646e-04, 1.66845432e-04, 4.48552106e-04,\n",
       "        6.14513608e-05, 8.64850670e-05, 1.64236894e-04, 8.85950223e-05,\n",
       "        7.07964932e-05, 1.37880787e-04, 7.87245187e-05, 7.86138944e-05,\n",
       "        7.08818115e-05, 9.09117398e-05, 7.59254475e-05, 6.50808287e-04,\n",
       "        7.41217289e-05, 3.07655675e-04, 7.76854078e-05, 7.47166854e-05,\n",
       "        1.92995593e-04, 7.08270134e-05, 7.07667993e-05]),\n",
       " 'param_n_neighbors': masked_array(data=[1, 2, 3, 4, 5, 6, 7, 8, 9, 10, 11, 12, 13, 14, 15, 16,\n",
       "                    17, 18, 19, 20, 21, 22, 23, 24, 25, 26, 27, 28, 29, 30,\n",
       "                    31, 32, 33, 34, 35, 36, 37, 38, 39, 40, 41, 42, 43, 44,\n",
       "                    45, 46, 47, 48, 49, 50, 51, 52, 53, 54, 55, 56, 57, 58,\n",
       "                    59, 60, 61, 62, 63, 64, 65, 66, 67, 68, 69, 70, 71, 72,\n",
       "                    73, 74, 75, 76, 77, 78, 79, 80, 81, 82, 83, 84, 85, 86,\n",
       "                    87, 88, 89, 90, 91, 92, 93, 94, 95, 96, 97, 98, 99],\n",
       "              mask=[False, False, False, False, False, False, False, False,\n",
       "                    False, False, False, False, False, False, False, False,\n",
       "                    False, False, False, False, False, False, False, False,\n",
       "                    False, False, False, False, False, False, False, False,\n",
       "                    False, False, False, False, False, False, False, False,\n",
       "                    False, False, False, False, False, False, False, False,\n",
       "                    False, False, False, False, False, False, False, False,\n",
       "                    False, False, False, False, False, False, False, False,\n",
       "                    False, False, False, False, False, False, False, False,\n",
       "                    False, False, False, False, False, False, False, False,\n",
       "                    False, False, False, False, False, False, False, False,\n",
       "                    False, False, False, False, False, False, False, False,\n",
       "                    False, False, False],\n",
       "        fill_value='?',\n",
       "             dtype=object),\n",
       " 'params': [{'n_neighbors': 1},\n",
       "  {'n_neighbors': 2},\n",
       "  {'n_neighbors': 3},\n",
       "  {'n_neighbors': 4},\n",
       "  {'n_neighbors': 5},\n",
       "  {'n_neighbors': 6},\n",
       "  {'n_neighbors': 7},\n",
       "  {'n_neighbors': 8},\n",
       "  {'n_neighbors': 9},\n",
       "  {'n_neighbors': 10},\n",
       "  {'n_neighbors': 11},\n",
       "  {'n_neighbors': 12},\n",
       "  {'n_neighbors': 13},\n",
       "  {'n_neighbors': 14},\n",
       "  {'n_neighbors': 15},\n",
       "  {'n_neighbors': 16},\n",
       "  {'n_neighbors': 17},\n",
       "  {'n_neighbors': 18},\n",
       "  {'n_neighbors': 19},\n",
       "  {'n_neighbors': 20},\n",
       "  {'n_neighbors': 21},\n",
       "  {'n_neighbors': 22},\n",
       "  {'n_neighbors': 23},\n",
       "  {'n_neighbors': 24},\n",
       "  {'n_neighbors': 25},\n",
       "  {'n_neighbors': 26},\n",
       "  {'n_neighbors': 27},\n",
       "  {'n_neighbors': 28},\n",
       "  {'n_neighbors': 29},\n",
       "  {'n_neighbors': 30},\n",
       "  {'n_neighbors': 31},\n",
       "  {'n_neighbors': 32},\n",
       "  {'n_neighbors': 33},\n",
       "  {'n_neighbors': 34},\n",
       "  {'n_neighbors': 35},\n",
       "  {'n_neighbors': 36},\n",
       "  {'n_neighbors': 37},\n",
       "  {'n_neighbors': 38},\n",
       "  {'n_neighbors': 39},\n",
       "  {'n_neighbors': 40},\n",
       "  {'n_neighbors': 41},\n",
       "  {'n_neighbors': 42},\n",
       "  {'n_neighbors': 43},\n",
       "  {'n_neighbors': 44},\n",
       "  {'n_neighbors': 45},\n",
       "  {'n_neighbors': 46},\n",
       "  {'n_neighbors': 47},\n",
       "  {'n_neighbors': 48},\n",
       "  {'n_neighbors': 49},\n",
       "  {'n_neighbors': 50},\n",
       "  {'n_neighbors': 51},\n",
       "  {'n_neighbors': 52},\n",
       "  {'n_neighbors': 53},\n",
       "  {'n_neighbors': 54},\n",
       "  {'n_neighbors': 55},\n",
       "  {'n_neighbors': 56},\n",
       "  {'n_neighbors': 57},\n",
       "  {'n_neighbors': 58},\n",
       "  {'n_neighbors': 59},\n",
       "  {'n_neighbors': 60},\n",
       "  {'n_neighbors': 61},\n",
       "  {'n_neighbors': 62},\n",
       "  {'n_neighbors': 63},\n",
       "  {'n_neighbors': 64},\n",
       "  {'n_neighbors': 65},\n",
       "  {'n_neighbors': 66},\n",
       "  {'n_neighbors': 67},\n",
       "  {'n_neighbors': 68},\n",
       "  {'n_neighbors': 69},\n",
       "  {'n_neighbors': 70},\n",
       "  {'n_neighbors': 71},\n",
       "  {'n_neighbors': 72},\n",
       "  {'n_neighbors': 73},\n",
       "  {'n_neighbors': 74},\n",
       "  {'n_neighbors': 75},\n",
       "  {'n_neighbors': 76},\n",
       "  {'n_neighbors': 77},\n",
       "  {'n_neighbors': 78},\n",
       "  {'n_neighbors': 79},\n",
       "  {'n_neighbors': 80},\n",
       "  {'n_neighbors': 81},\n",
       "  {'n_neighbors': 82},\n",
       "  {'n_neighbors': 83},\n",
       "  {'n_neighbors': 84},\n",
       "  {'n_neighbors': 85},\n",
       "  {'n_neighbors': 86},\n",
       "  {'n_neighbors': 87},\n",
       "  {'n_neighbors': 88},\n",
       "  {'n_neighbors': 89},\n",
       "  {'n_neighbors': 90},\n",
       "  {'n_neighbors': 91},\n",
       "  {'n_neighbors': 92},\n",
       "  {'n_neighbors': 93},\n",
       "  {'n_neighbors': 94},\n",
       "  {'n_neighbors': 95},\n",
       "  {'n_neighbors': 96},\n",
       "  {'n_neighbors': 97},\n",
       "  {'n_neighbors': 98},\n",
       "  {'n_neighbors': 99}],\n",
       " 'split0_test_score': array([0.69324103, 0.71968227, 0.70504808, 0.71870909, 0.71124794,\n",
       "        0.7187183 , 0.71293687, 0.71338595, 0.71847374, 0.71564902,\n",
       "        0.71930194, 0.71686047, 0.71678047, 0.70968152, 0.7157445 ,\n",
       "        0.70901638, 0.70796712, 0.71111125, 0.71407101, 0.71111125,\n",
       "        0.71341151, 0.70696153, 0.71163424, 0.70746553, 0.70982045,\n",
       "        0.70509192, 0.70509192, 0.70558575, 0.70746553, 0.70509192,\n",
       "        0.70746553, 0.70558575, 0.70558575, 0.70558575, 0.70558575,\n",
       "        0.70558575, 0.70558575, 0.70558575, 0.70509192, 0.70558575,\n",
       "        0.70558575, 0.70558575, 0.70558575, 0.70558575, 0.70558575,\n",
       "        0.70558575, 0.70558575, 0.70558575, 0.70558575, 0.70558575,\n",
       "        0.70558575, 0.70558575, 0.70558575, 0.70558575, 0.70558575,\n",
       "        0.70558575, 0.70558575, 0.70558575, 0.70558575, 0.70558575,\n",
       "        0.70558575, 0.70558575, 0.70558575, 0.70558575, 0.70558575,\n",
       "        0.70558575, 0.70558575, 0.70558575, 0.70558575, 0.70558575,\n",
       "        0.70558575, 0.70558575, 0.70558575, 0.70558575, 0.70558575,\n",
       "        0.70558575, 0.70558575, 0.70558575, 0.70558575, 0.70558575,\n",
       "        0.70558575, 0.70558575, 0.70558575, 0.70558575, 0.70558575,\n",
       "        0.70558575, 0.70558575, 0.70558575, 0.70558575, 0.70558575,\n",
       "        0.70558575, 0.70558575, 0.70558575, 0.70558575, 0.70558575,\n",
       "        0.70558575, 0.70558575, 0.70558575, 0.70558575]),\n",
       " 'split1_test_score': array([0.70345663, 0.70496977, 0.70220664, 0.71407965, 0.72461512,\n",
       "        0.71891746, 0.72363025, 0.70586476, 0.7135    , 0.71058798,\n",
       "        0.71518647, 0.71631091, 0.71847773, 0.71341151, 0.71741841,\n",
       "        0.71447528, 0.71631091, 0.71215694, 0.7118143 , 0.71163424,\n",
       "        0.71111125, 0.71163424, 0.71163424, 0.71033352, 0.70982045,\n",
       "        0.70796907, 0.70746553, 0.70746553, 0.70746553, 0.70509192,\n",
       "        0.70509192, 0.70558575, 0.70558575, 0.70558575, 0.70558575,\n",
       "        0.70558575, 0.70558575, 0.70558575, 0.70558575, 0.70558575,\n",
       "        0.70558575, 0.70558575, 0.70558575, 0.70558575, 0.70558575,\n",
       "        0.70558575, 0.70558575, 0.70558575, 0.70558575, 0.70558575,\n",
       "        0.70558575, 0.70558575, 0.70558575, 0.70558575, 0.70558575,\n",
       "        0.70558575, 0.70558575, 0.70558575, 0.70558575, 0.70558575,\n",
       "        0.70558575, 0.70558575, 0.70558575, 0.70558575, 0.70558575,\n",
       "        0.70558575, 0.70558575, 0.70558575, 0.70558575, 0.70558575,\n",
       "        0.70558575, 0.70558575, 0.70558575, 0.70558575, 0.70558575,\n",
       "        0.70558575, 0.70558575, 0.70558575, 0.70558575, 0.70558575,\n",
       "        0.70558575, 0.70558575, 0.70558575, 0.70558575, 0.70558575,\n",
       "        0.70558575, 0.70558575, 0.70558575, 0.70558575, 0.70558575,\n",
       "        0.70558575, 0.70558575, 0.70558575, 0.70558575, 0.70558575,\n",
       "        0.70558575, 0.70558575, 0.70558575, 0.70558575]),\n",
       " 'split2_test_score': array([0.6801162 , 0.71847374, 0.69262546, 0.70363507, 0.69799274,\n",
       "        0.70805359, 0.70627558, 0.70864977, 0.70792482, 0.70744201,\n",
       "        0.70915636, 0.70570235, 0.70155902, 0.70673418, 0.70518585,\n",
       "        0.70544677, 0.70570235, 0.70544677, 0.70796712, 0.70827901,\n",
       "        0.70776445, 0.70982045, 0.70982045, 0.70746553, 0.70746553,\n",
       "        0.70796907, 0.70696153, 0.70558575, 0.70796907, 0.70558575,\n",
       "        0.70796907, 0.70558575, 0.70558575, 0.70558575, 0.70558575,\n",
       "        0.70558575, 0.70558575, 0.70558575, 0.70558575, 0.70558575,\n",
       "        0.70558575, 0.70558575, 0.70558575, 0.70558575, 0.70558575,\n",
       "        0.70558575, 0.70558575, 0.70558575, 0.70558575, 0.70558575,\n",
       "        0.70558575, 0.70558575, 0.70558575, 0.70558575, 0.70558575,\n",
       "        0.70558575, 0.70558575, 0.70558575, 0.70558575, 0.70558575,\n",
       "        0.70558575, 0.70558575, 0.70558575, 0.70558575, 0.70558575,\n",
       "        0.70558575, 0.70558575, 0.70558575, 0.70558575, 0.70558575,\n",
       "        0.70558575, 0.70558575, 0.70558575, 0.70558575, 0.70558575,\n",
       "        0.70558575, 0.70558575, 0.70558575, 0.70558575, 0.70558575,\n",
       "        0.70558575, 0.70558575, 0.70558575, 0.70558575, 0.70558575,\n",
       "        0.70558575, 0.70558575, 0.70558575, 0.70558575, 0.70558575,\n",
       "        0.70558575, 0.70558575, 0.70558575, 0.70558575, 0.70558575,\n",
       "        0.70558575, 0.70558575, 0.70558575, 0.70558575]),\n",
       " 'split3_test_score': array([0.67176709, 0.7084867 , 0.7179098 , 0.72167484, 0.72039563,\n",
       "        0.72255929, 0.73248216, 0.72130732, 0.72523988, 0.72187344,\n",
       "        0.72063744, 0.71234692, 0.71190462, 0.71111125, 0.71128145,\n",
       "        0.70746553, 0.71163424, 0.70930701, 0.7139435 , 0.71267936,\n",
       "        0.71267936, 0.70796907, 0.70796907, 0.70796907, 0.71033352,\n",
       "        0.70796907, 0.70796907, 0.70796907, 0.70796907, 0.70558575,\n",
       "        0.70796907, 0.70558575, 0.70796907, 0.70558575, 0.70558575,\n",
       "        0.70558575, 0.70558575, 0.70558575, 0.70558575, 0.70558575,\n",
       "        0.70558575, 0.70558575, 0.70558575, 0.70558575, 0.70558575,\n",
       "        0.70558575, 0.70558575, 0.70558575, 0.70558575, 0.70558575,\n",
       "        0.70558575, 0.70558575, 0.70558575, 0.70558575, 0.70558575,\n",
       "        0.70558575, 0.70558575, 0.70558575, 0.70558575, 0.70558575,\n",
       "        0.70558575, 0.70558575, 0.70558575, 0.70558575, 0.70558575,\n",
       "        0.70558575, 0.70558575, 0.70558575, 0.70558575, 0.70558575,\n",
       "        0.70558575, 0.70558575, 0.70558575, 0.70558575, 0.70558575,\n",
       "        0.70558575, 0.70558575, 0.70558575, 0.70558575, 0.70558575,\n",
       "        0.70558575, 0.70558575, 0.70558575, 0.70558575, 0.70558575,\n",
       "        0.70558575, 0.70558575, 0.70558575, 0.70558575, 0.70558575,\n",
       "        0.70558575, 0.70558575, 0.70558575, 0.70558575, 0.70558575,\n",
       "        0.70558575, 0.70558575, 0.70558575, 0.70558575]),\n",
       " 'split4_test_score': array([0.68755757, 0.70602397, 0.70385207, 0.70695013, 0.72229636,\n",
       "        0.71356146, 0.72391818, 0.7157612 , 0.71891746, 0.7139435 ,\n",
       "        0.71407101, 0.71215694, 0.71515329, 0.71267936, 0.71006441,\n",
       "        0.70746553, 0.71163424, 0.70796907, 0.70796907, 0.70558575,\n",
       "        0.70558575, 0.70558575, 0.70558575, 0.70558575, 0.70558575,\n",
       "        0.70558575, 0.70558575, 0.70558575, 0.70558575, 0.70558575,\n",
       "        0.70558575, 0.70558575, 0.70558575, 0.70558575, 0.70558575,\n",
       "        0.70558575, 0.70558575, 0.70558575, 0.70558575, 0.70558575,\n",
       "        0.70558575, 0.70558575, 0.70558575, 0.70558575, 0.70558575,\n",
       "        0.70558575, 0.70558575, 0.70558575, 0.70558575, 0.70558575,\n",
       "        0.70558575, 0.70558575, 0.70558575, 0.70558575, 0.70558575,\n",
       "        0.70558575, 0.70558575, 0.70558575, 0.70558575, 0.70558575,\n",
       "        0.70558575, 0.70558575, 0.70558575, 0.70558575, 0.70558575,\n",
       "        0.70558575, 0.70558575, 0.70558575, 0.70558575, 0.70558575,\n",
       "        0.70558575, 0.70558575, 0.70558575, 0.70558575, 0.70558575,\n",
       "        0.70558575, 0.70558575, 0.70558575, 0.70558575, 0.70558575,\n",
       "        0.70558575, 0.70558575, 0.70558575, 0.70558575, 0.70558575,\n",
       "        0.70558575, 0.70558575, 0.70558575, 0.70558575, 0.70558575,\n",
       "        0.70558575, 0.70558575, 0.70558575, 0.70558575, 0.70558575,\n",
       "        0.70558575, 0.70558575, 0.70558575, 0.70558575]),\n",
       " 'split5_test_score': array([0.67329699, 0.7042219 , 0.70124551, 0.71016102, 0.71366427,\n",
       "        0.71451753, 0.71141641, 0.71080931, 0.71523901, 0.71686047,\n",
       "        0.71564902, 0.71466152, 0.71462838, 0.71234692, 0.7118143 ,\n",
       "        0.71058798, 0.71461222, 0.71163424, 0.71111125, 0.71163424,\n",
       "        0.71058798, 0.70746553, 0.70645707, 0.70558575, 0.70796907,\n",
       "        0.70558575, 0.70558575, 0.70558575, 0.70558575, 0.70558575,\n",
       "        0.70558575, 0.70558575, 0.70509192, 0.70558575, 0.70509192,\n",
       "        0.70509192, 0.70509192, 0.70558575, 0.70558575, 0.70558575,\n",
       "        0.70558575, 0.70558575, 0.70558575, 0.70558575, 0.70558575,\n",
       "        0.70558575, 0.70558575, 0.70558575, 0.70558575, 0.70558575,\n",
       "        0.70558575, 0.70558575, 0.70558575, 0.70558575, 0.70558575,\n",
       "        0.70558575, 0.70558575, 0.70558575, 0.70558575, 0.70558575,\n",
       "        0.70558575, 0.70558575, 0.70558575, 0.70558575, 0.70558575,\n",
       "        0.70558575, 0.70558575, 0.70558575, 0.70558575, 0.70558575,\n",
       "        0.70558575, 0.70558575, 0.70558575, 0.70558575, 0.70558575,\n",
       "        0.70558575, 0.70558575, 0.70558575, 0.70558575, 0.70558575,\n",
       "        0.70558575, 0.70558575, 0.70558575, 0.70558575, 0.70558575,\n",
       "        0.70558575, 0.70558575, 0.70558575, 0.70558575, 0.70558575,\n",
       "        0.70558575, 0.70558575, 0.70558575, 0.70558575, 0.70558575,\n",
       "        0.70558575, 0.70558575, 0.70558575, 0.70558575]),\n",
       " 'split6_test_score': array([0.67565427, 0.71261449, 0.70082829, 0.70960216, 0.71063007,\n",
       "        0.71239539, 0.71141641, 0.70259731, 0.70593171, 0.7029128 ,\n",
       "        0.70540388, 0.7029128 , 0.70533835, 0.70211738, 0.70112143,\n",
       "        0.70410262, 0.70261453, 0.70509192, 0.70360714, 0.70509192,\n",
       "        0.70459755, 0.70509192, 0.70509192, 0.70509192, 0.70509192,\n",
       "        0.70558575, 0.70558575, 0.70558575, 0.70509192, 0.70558575,\n",
       "        0.70558575, 0.70558575, 0.70558575, 0.70558575, 0.70558575,\n",
       "        0.70558575, 0.70558575, 0.70558575, 0.70558575, 0.70558575,\n",
       "        0.70558575, 0.70558575, 0.70558575, 0.70558575, 0.70558575,\n",
       "        0.70558575, 0.70558575, 0.70558575, 0.70558575, 0.70558575,\n",
       "        0.70558575, 0.70558575, 0.70558575, 0.70558575, 0.70558575,\n",
       "        0.70558575, 0.70558575, 0.70558575, 0.70558575, 0.70558575,\n",
       "        0.70558575, 0.70558575, 0.70558575, 0.70558575, 0.70558575,\n",
       "        0.70558575, 0.70558575, 0.70558575, 0.70558575, 0.70558575,\n",
       "        0.70558575, 0.70558575, 0.70558575, 0.70558575, 0.70558575,\n",
       "        0.70558575, 0.70558575, 0.70558575, 0.70558575, 0.70558575,\n",
       "        0.70558575, 0.70558575, 0.70558575, 0.70558575, 0.70558575,\n",
       "        0.70558575, 0.70558575, 0.70558575, 0.70558575, 0.70558575,\n",
       "        0.70558575, 0.70558575, 0.70558575, 0.70558575, 0.70558575,\n",
       "        0.70558575, 0.70558575, 0.70558575, 0.70558575]),\n",
       " 'split7_test_score': array([0.69040243, 0.71983945, 0.71769305, 0.7145436 , 0.7089618 ,\n",
       "        0.71165657, 0.71371174, 0.70829602, 0.71053297, 0.70862978,\n",
       "        0.71383911, 0.70632104, 0.70581461, 0.70682701, 0.70862978,\n",
       "        0.70783754, 0.71426013, 0.71353827, 0.71532477, 0.71301537,\n",
       "        0.71301537, 0.70884623, 0.7106879 , 0.7112015 , 0.7112015 ,\n",
       "        0.71171474, 0.71171474, 0.70934988, 0.70884623, 0.70647216,\n",
       "        0.70884623, 0.70647216, 0.70647216, 0.70647216, 0.70647216,\n",
       "        0.70696605, 0.70696605, 0.70696605, 0.70696605, 0.70696605,\n",
       "        0.70696605, 0.70696605, 0.70696605, 0.70696605, 0.70696605,\n",
       "        0.70696605, 0.70696605, 0.70696605, 0.70696605, 0.70696605,\n",
       "        0.70696605, 0.70696605, 0.70696605, 0.70696605, 0.70696605,\n",
       "        0.70696605, 0.70696605, 0.70696605, 0.70696605, 0.70696605,\n",
       "        0.70696605, 0.70696605, 0.70696605, 0.70696605, 0.70696605,\n",
       "        0.70696605, 0.70696605, 0.70696605, 0.70696605, 0.70696605,\n",
       "        0.70696605, 0.70696605, 0.70696605, 0.70696605, 0.70696605,\n",
       "        0.70696605, 0.70696605, 0.70696605, 0.70696605, 0.70696605,\n",
       "        0.70696605, 0.70696605, 0.70696605, 0.70696605, 0.70696605,\n",
       "        0.70696605, 0.70696605, 0.70696605, 0.70696605, 0.70696605,\n",
       "        0.70696605, 0.70696605, 0.70696605, 0.70696605, 0.70696605,\n",
       "        0.70696605, 0.70696605, 0.70696605, 0.70696605]),\n",
       " 'split8_test_score': array([0.68573535, 0.71533793, 0.71348139, 0.72328317, 0.73258169,\n",
       "        0.7235777 , 0.7260538 , 0.71545127, 0.71972057, 0.71714101,\n",
       "        0.72029408, 0.71319464, 0.71823938, 0.71196872, 0.70882162,\n",
       "        0.70682701, 0.70530771, 0.70548272, 0.70914488, 0.70548272,\n",
       "        0.70449107, 0.70597772, 0.70597772, 0.70597772, 0.70597772,\n",
       "        0.70597772, 0.70548272, 0.70696605, 0.70647216, 0.70696605,\n",
       "        0.70696605, 0.70696605, 0.70696605, 0.70696605, 0.70696605,\n",
       "        0.70696605, 0.70696605, 0.70696605, 0.70696605, 0.70696605,\n",
       "        0.70696605, 0.70696605, 0.70696605, 0.70696605, 0.70696605,\n",
       "        0.70696605, 0.70696605, 0.70696605, 0.70696605, 0.70696605,\n",
       "        0.70696605, 0.70696605, 0.70696605, 0.70696605, 0.70696605,\n",
       "        0.70696605, 0.70696605, 0.70696605, 0.70696605, 0.70696605,\n",
       "        0.70696605, 0.70696605, 0.70696605, 0.70696605, 0.70696605,\n",
       "        0.70696605, 0.70696605, 0.70696605, 0.70696605, 0.70696605,\n",
       "        0.70696605, 0.70696605, 0.70696605, 0.70696605, 0.70696605,\n",
       "        0.70696605, 0.70696605, 0.70696605, 0.70696605, 0.70696605,\n",
       "        0.70696605, 0.70696605, 0.70696605, 0.70696605, 0.70696605,\n",
       "        0.70696605, 0.70696605, 0.70696605, 0.70696605, 0.70696605,\n",
       "        0.70696605, 0.70696605, 0.70696605, 0.70696605, 0.70696605,\n",
       "        0.70696605, 0.70696605, 0.70696605, 0.70696605]),\n",
       " 'split9_test_score': array([0.67      , 0.70500941, 0.6987656 , 0.70887785, 0.71264065,\n",
       "        0.71111377, 0.71571621, 0.70934691, 0.71057078, 0.70862978,\n",
       "        0.70553105, 0.70399442, 0.7015028 , 0.70449107, 0.70250112,\n",
       "        0.70548272, 0.70399442, 0.70548272, 0.70682701, 0.70884623,\n",
       "        0.71249218, 0.71171474, 0.7106879 , 0.70934988, 0.70884623,\n",
       "        0.70934988, 0.70934988, 0.70696605, 0.70934988, 0.70934988,\n",
       "        0.70934988, 0.70696605, 0.70934988, 0.70696605, 0.70696605,\n",
       "        0.70696605, 0.70696605, 0.70696605, 0.70696605, 0.70696605,\n",
       "        0.70696605, 0.70696605, 0.70696605, 0.70696605, 0.70696605,\n",
       "        0.70696605, 0.70696605, 0.70696605, 0.70696605, 0.70696605,\n",
       "        0.70696605, 0.70696605, 0.70696605, 0.70696605, 0.70696605,\n",
       "        0.70696605, 0.70696605, 0.70696605, 0.70696605, 0.70696605,\n",
       "        0.70696605, 0.70696605, 0.70696605, 0.70696605, 0.70696605,\n",
       "        0.70696605, 0.70696605, 0.70696605, 0.70696605, 0.70696605,\n",
       "        0.70696605, 0.70696605, 0.70696605, 0.70696605, 0.70696605,\n",
       "        0.70696605, 0.70696605, 0.70696605, 0.70696605, 0.70696605,\n",
       "        0.70696605, 0.70696605, 0.70696605, 0.70696605, 0.70696605,\n",
       "        0.70696605, 0.70696605, 0.70696605, 0.70696605, 0.70696605,\n",
       "        0.70696605, 0.70696605, 0.70696605, 0.70696605, 0.70696605,\n",
       "        0.70696605, 0.70696605, 0.70696605, 0.70696605]),\n",
       " 'mean_test_score': array([0.68312276, 0.71146596, 0.70536559, 0.71315166, 0.71550263,\n",
       "        0.71550711, 0.71775576, 0.71114698, 0.71460509, 0.71236698,\n",
       "        0.71390704, 0.7104462 , 0.71093987, 0.70913689, 0.70925829,\n",
       "        0.70787074, 0.70940378, 0.70872209, 0.710178  , 0.70933601,\n",
       "        0.70957365, 0.70810672, 0.70855463, 0.70760262, 0.70821121,\n",
       "        0.70727987, 0.70707926, 0.70666453, 0.70718009, 0.70609007,\n",
       "        0.7070415 , 0.70595045, 0.70637778, 0.70595045, 0.70590107,\n",
       "        0.70595046, 0.70595046, 0.70599984, 0.70595046, 0.70599984,\n",
       "        0.70599984, 0.70599984, 0.70599984, 0.70599984, 0.70599984,\n",
       "        0.70599984, 0.70599984, 0.70599984, 0.70599984, 0.70599984,\n",
       "        0.70599984, 0.70599984, 0.70599984, 0.70599984, 0.70599984,\n",
       "        0.70599984, 0.70599984, 0.70599984, 0.70599984, 0.70599984,\n",
       "        0.70599984, 0.70599984, 0.70599984, 0.70599984, 0.70599984,\n",
       "        0.70599984, 0.70599984, 0.70599984, 0.70599984, 0.70599984,\n",
       "        0.70599984, 0.70599984, 0.70599984, 0.70599984, 0.70599984,\n",
       "        0.70599984, 0.70599984, 0.70599984, 0.70599984, 0.70599984,\n",
       "        0.70599984, 0.70599984, 0.70599984, 0.70599984, 0.70599984,\n",
       "        0.70599984, 0.70599984, 0.70599984, 0.70599984, 0.70599984,\n",
       "        0.70599984, 0.70599984, 0.70599984, 0.70599984, 0.70599984,\n",
       "        0.70599984, 0.70599984, 0.70599984, 0.70599984]),\n",
       " 'std_test_score': array([0.0102852 , 0.00614734, 0.00794351, 0.00614661, 0.00920664,\n",
       "        0.00490857, 0.00783654, 0.00516508, 0.00571983, 0.00539766,\n",
       "        0.00533789, 0.00495276, 0.00641255, 0.00367839, 0.00498972,\n",
       "        0.00281978, 0.00465046, 0.00308196, 0.00353005, 0.0029447 ,\n",
       "        0.00343368, 0.00225085, 0.00248716, 0.00201777, 0.00203113,\n",
       "        0.00201174, 0.00201961, 0.00124721, 0.0013725 , 0.00121672,\n",
       "        0.00143703, 0.0005715 , 0.00128494, 0.0005715 , 0.00062015,\n",
       "        0.0006804 , 0.0006804 , 0.00063254, 0.0006804 , 0.00063254,\n",
       "        0.00063254, 0.00063254, 0.00063254, 0.00063254, 0.00063254,\n",
       "        0.00063254, 0.00063254, 0.00063254, 0.00063254, 0.00063254,\n",
       "        0.00063254, 0.00063254, 0.00063254, 0.00063254, 0.00063254,\n",
       "        0.00063254, 0.00063254, 0.00063254, 0.00063254, 0.00063254,\n",
       "        0.00063254, 0.00063254, 0.00063254, 0.00063254, 0.00063254,\n",
       "        0.00063254, 0.00063254, 0.00063254, 0.00063254, 0.00063254,\n",
       "        0.00063254, 0.00063254, 0.00063254, 0.00063254, 0.00063254,\n",
       "        0.00063254, 0.00063254, 0.00063254, 0.00063254, 0.00063254,\n",
       "        0.00063254, 0.00063254, 0.00063254, 0.00063254, 0.00063254,\n",
       "        0.00063254, 0.00063254, 0.00063254, 0.00063254, 0.00063254,\n",
       "        0.00063254, 0.00063254, 0.00063254, 0.00063254, 0.00063254,\n",
       "        0.00063254, 0.00063254, 0.00063254, 0.00063254]),\n",
       " 'rank_test_score': array([99,  8, 98,  6,  3,  2,  1,  9,  4,  7,  5, 11, 10, 17, 16, 22, 14,\n",
       "        18, 12, 15, 13, 21, 19, 23, 20, 24, 26, 28, 25, 30, 27, 95, 29, 95,\n",
       "        97, 92, 92, 31, 92, 31, 31, 31, 31, 31, 31, 31, 31, 31, 31, 31, 31,\n",
       "        31, 31, 31, 31, 31, 31, 31, 31, 31, 31, 31, 31, 31, 31, 31, 31, 31,\n",
       "        31, 31, 31, 31, 31, 31, 31, 31, 31, 31, 31, 31, 31, 31, 31, 31, 31,\n",
       "        31, 31, 31, 31, 31, 31, 31, 31, 31, 31, 31, 31, 31, 31],\n",
       "       dtype=int32)}"
      ]
     },
     "execution_count": 35,
     "metadata": {},
     "output_type": "execute_result"
    }
   ],
   "source": [
    "# view the complete results\n",
    "grid.cv_results_"
   ]
  },
  {
   "cell_type": "code",
   "execution_count": 36,
   "metadata": {},
   "outputs": [
    {
     "name": "stdout",
     "output_type": "stream",
     "text": [
      "Best params:  {'n_neighbors': 7}\n",
      "Best estimator:  KNeighborsClassifier(n_neighbors=7)\n",
      "Best score:  0.7177557607709788\n"
     ]
    }
   ],
   "source": [
    "# examine the best model\n",
    "print(\"Best params: \", grid.best_params_)\n",
    "print(\"Best estimator: \", grid.best_estimator_)\n",
    "print(\"Best score: \", grid.best_score_)"
   ]
  },
  {
   "cell_type": "markdown",
   "metadata": {},
   "source": [
    "## Searching multiple parameters simultaneously"
   ]
  },
  {
   "cell_type": "code",
   "execution_count": 37,
   "metadata": {},
   "outputs": [],
   "source": [
    "# define the parameter values that should be searched\n",
    "k_range = list(range(1, 31))\n",
    "weight_options = ['uniform', 'distance']"
   ]
  },
  {
   "cell_type": "code",
   "execution_count": 38,
   "metadata": {},
   "outputs": [
    {
     "name": "stdout",
     "output_type": "stream",
     "text": [
      "{'n_neighbors': [1, 2, 3, 4, 5, 6, 7, 8, 9, 10, 11, 12, 13, 14, 15, 16, 17, 18, 19, 20, 21, 22, 23, 24, 25, 26, 27, 28, 29, 30], 'weights': ['uniform', 'distance']}\n"
     ]
    }
   ],
   "source": [
    "# create a parameter grid: map the parameter names to the values that should be searched\n",
    "param_grid = dict(n_neighbors=k_range, weights=weight_options)\n",
    "print(param_grid)"
   ]
  },
  {
   "cell_type": "code",
   "execution_count": 39,
   "metadata": {},
   "outputs": [
    {
     "data": {
      "text/plain": [
       "GridSearchCV(cv=10, estimator=KNeighborsClassifier(n_neighbors=30),\n",
       "             param_grid={'n_neighbors': [1, 2, 3, 4, 5, 6, 7, 8, 9, 10, 11, 12,\n",
       "                                         13, 14, 15, 16, 17, 18, 19, 20, 21, 22,\n",
       "                                         23, 24, 25, 26, 27, 28, 29, 30],\n",
       "                         'weights': ['uniform', 'distance']},\n",
       "             scoring='f1_weighted')"
      ]
     },
     "execution_count": 39,
     "metadata": {},
     "output_type": "execute_result"
    }
   ],
   "source": [
    "# instantiate and fit the grid\n",
    "grid = GridSearchCV(knn, param_grid, cv=10, scoring='f1_weighted')\n",
    "grid.fit(X, y)"
   ]
  },
  {
   "cell_type": "code",
   "execution_count": 40,
   "metadata": {},
   "outputs": [
    {
     "name": "stdout",
     "output_type": "stream",
     "text": [
      "Best params:  {'n_neighbors': 7, 'weights': 'uniform'}\n",
      "Best estimator:  KNeighborsClassifier(n_neighbors=7)\n",
      "Best score:  0.7177557607709788\n"
     ]
    }
   ],
   "source": [
    "# examine the best model -- still 13 neighbors and uniform weights\n",
    "print(\"Best params: \", grid.best_params_)\n",
    "print(\"Best estimator: \", grid.best_estimator_)\n",
    "print(\"Best score: \", grid.best_score_)"
   ]
  },
  {
   "cell_type": "markdown",
   "metadata": {},
   "source": [
    "## Using the best parameters to make predictions"
   ]
  },
  {
   "cell_type": "code",
   "execution_count": 27,
   "metadata": {},
   "outputs": [
    {
     "data": {
      "text/html": [
       "<div>\n",
       "<style scoped>\n",
       "    .dataframe tbody tr th:only-of-type {\n",
       "        vertical-align: middle;\n",
       "    }\n",
       "\n",
       "    .dataframe tbody tr th {\n",
       "        vertical-align: top;\n",
       "    }\n",
       "\n",
       "    .dataframe thead th {\n",
       "        text-align: right;\n",
       "    }\n",
       "</style>\n",
       "<table border=\"1\" class=\"dataframe\">\n",
       "  <thead>\n",
       "    <tr style=\"text-align: right;\">\n",
       "      <th></th>\n",
       "      <th>Age</th>\n",
       "      <th>Tenure</th>\n",
       "      <th>Balance</th>\n",
       "      <th>NumOfProducts</th>\n",
       "      <th>HasCrCard</th>\n",
       "      <th>IsActiveMember</th>\n",
       "      <th>EstimatedSalary</th>\n",
       "      <th>Gender_Male</th>\n",
       "      <th>Geography_Germany</th>\n",
       "      <th>Geography_Spain</th>\n",
       "      <th>CreditScoreTable_1</th>\n",
       "      <th>CreditScoreTable_2</th>\n",
       "      <th>CreditScoreTable_3</th>\n",
       "      <th>CreditScoreTable_4</th>\n",
       "    </tr>\n",
       "  </thead>\n",
       "  <tbody>\n",
       "    <tr>\n",
       "      <th>6252</th>\n",
       "      <td>32</td>\n",
       "      <td>3</td>\n",
       "      <td>96709.07</td>\n",
       "      <td>2</td>\n",
       "      <td>0</td>\n",
       "      <td>0</td>\n",
       "      <td>41788.37</td>\n",
       "      <td>1</td>\n",
       "      <td>1</td>\n",
       "      <td>0</td>\n",
       "      <td>1</td>\n",
       "      <td>0</td>\n",
       "      <td>0</td>\n",
       "      <td>0</td>\n",
       "    </tr>\n",
       "    <tr>\n",
       "      <th>4684</th>\n",
       "      <td>43</td>\n",
       "      <td>1</td>\n",
       "      <td>0.00</td>\n",
       "      <td>2</td>\n",
       "      <td>1</td>\n",
       "      <td>1</td>\n",
       "      <td>146379.30</td>\n",
       "      <td>1</td>\n",
       "      <td>0</td>\n",
       "      <td>0</td>\n",
       "      <td>1</td>\n",
       "      <td>0</td>\n",
       "      <td>0</td>\n",
       "      <td>0</td>\n",
       "    </tr>\n",
       "    <tr>\n",
       "      <th>1731</th>\n",
       "      <td>44</td>\n",
       "      <td>4</td>\n",
       "      <td>0.00</td>\n",
       "      <td>2</td>\n",
       "      <td>1</td>\n",
       "      <td>0</td>\n",
       "      <td>58561.31</td>\n",
       "      <td>0</td>\n",
       "      <td>0</td>\n",
       "      <td>1</td>\n",
       "      <td>1</td>\n",
       "      <td>0</td>\n",
       "      <td>0</td>\n",
       "      <td>0</td>\n",
       "    </tr>\n",
       "    <tr>\n",
       "      <th>4742</th>\n",
       "      <td>59</td>\n",
       "      <td>8</td>\n",
       "      <td>119152.10</td>\n",
       "      <td>2</td>\n",
       "      <td>1</td>\n",
       "      <td>1</td>\n",
       "      <td>170679.74</td>\n",
       "      <td>1</td>\n",
       "      <td>1</td>\n",
       "      <td>0</td>\n",
       "      <td>0</td>\n",
       "      <td>0</td>\n",
       "      <td>0</td>\n",
       "      <td>0</td>\n",
       "    </tr>\n",
       "    <tr>\n",
       "      <th>4521</th>\n",
       "      <td>27</td>\n",
       "      <td>7</td>\n",
       "      <td>124995.98</td>\n",
       "      <td>1</td>\n",
       "      <td>1</td>\n",
       "      <td>1</td>\n",
       "      <td>114669.79</td>\n",
       "      <td>0</td>\n",
       "      <td>0</td>\n",
       "      <td>1</td>\n",
       "      <td>0</td>\n",
       "      <td>0</td>\n",
       "      <td>0</td>\n",
       "      <td>0</td>\n",
       "    </tr>\n",
       "  </tbody>\n",
       "</table>\n",
       "</div>"
      ],
      "text/plain": [
       "      Age  Tenure    Balance  NumOfProducts  HasCrCard  IsActiveMember  \\\n",
       "6252   32       3   96709.07              2          0               0   \n",
       "4684   43       1       0.00              2          1               1   \n",
       "1731   44       4       0.00              2          1               0   \n",
       "4742   59       8  119152.10              2          1               1   \n",
       "4521   27       7  124995.98              1          1               1   \n",
       "\n",
       "      EstimatedSalary  Gender_Male  Geography_Germany  Geography_Spain  \\\n",
       "6252         41788.37            1                  1                0   \n",
       "4684        146379.30            1                  0                0   \n",
       "1731         58561.31            0                  0                1   \n",
       "4742        170679.74            1                  1                0   \n",
       "4521        114669.79            0                  0                1   \n",
       "\n",
       "      CreditScoreTable_1  CreditScoreTable_2  CreditScoreTable_3  \\\n",
       "6252                   1                   0                   0   \n",
       "4684                   1                   0                   0   \n",
       "1731                   1                   0                   0   \n",
       "4742                   0                   0                   0   \n",
       "4521                   0                   0                   0   \n",
       "\n",
       "      CreditScoreTable_4  \n",
       "6252                   0  \n",
       "4684                   0  \n",
       "1731                   0  \n",
       "4742                   0  \n",
       "4521                   0  "
      ]
     },
     "execution_count": 27,
     "metadata": {},
     "output_type": "execute_result"
    }
   ],
   "source": [
    "X_test.head()"
   ]
  },
  {
   "cell_type": "code",
   "execution_count": 41,
   "metadata": {},
   "outputs": [
    {
     "name": "stderr",
     "output_type": "stream",
     "text": [
      "/Users/stay_one/opt/anaconda3/envs/metis/lib/python3.9/site-packages/sklearn/base.py:445: UserWarning: X does not have valid feature names, but KNeighborsClassifier was fitted with feature names\n",
      "  warnings.warn(\n"
     ]
    },
    {
     "data": {
      "text/plain": [
       "array([0])"
      ]
     },
     "execution_count": 41,
     "metadata": {},
     "output_type": "execute_result"
    }
   ],
   "source": [
    "# train your model using all data and the best known parameters\n",
    "knn = KNeighborsClassifier(n_neighbors=7, weights='uniform')\n",
    "knn.fit(X, y)\n",
    "\n",
    "# make a prediction on out-of-sample data\n",
    "knn.predict([[600, 68, 4, 45650.00,12,1,58000,0,0,0,1,1,0,0]])"
   ]
  },
  {
   "cell_type": "code",
   "execution_count": 32,
   "metadata": {},
   "outputs": [
    {
     "name": "stderr",
     "output_type": "stream",
     "text": [
      "/Users/stay_one/opt/anaconda3/envs/metis/lib/python3.9/site-packages/sklearn/base.py:445: UserWarning: X does not have valid feature names, but KNeighborsClassifier was fitted with feature names\n",
      "  warnings.warn(\n"
     ]
    },
    {
     "data": {
      "text/plain": [
       "array([0])"
      ]
     },
     "execution_count": 32,
     "metadata": {},
     "output_type": "execute_result"
    }
   ],
   "source": [
    "# shortcut: GridSearchCV automatically refits the best model using all of the data\n",
    "grid.predict([[600, 68, 4, 45650.00,12,1,58000,0,0,0,1,0,1,0]])"
   ]
  },
  {
   "cell_type": "code",
   "execution_count": null,
   "metadata": {},
   "outputs": [],
   "source": []
  }
 ],
 "metadata": {
  "kernelspec": {
   "display_name": "Python 3 (ipykernel)",
   "language": "python",
   "name": "python3"
  },
  "language_info": {
   "codemirror_mode": {
    "name": "ipython",
    "version": 3
   },
   "file_extension": ".py",
   "mimetype": "text/x-python",
   "name": "python",
   "nbconvert_exporter": "python",
   "pygments_lexer": "ipython3",
   "version": "3.9.7"
  },
  "toc": {
   "base_numbering": 1,
   "nav_menu": {},
   "number_sections": false,
   "sideBar": true,
   "skip_h1_title": false,
   "title_cell": "Table of Contents",
   "title_sidebar": "Contents",
   "toc_cell": false,
   "toc_position": {},
   "toc_section_display": true,
   "toc_window_display": true
  }
 },
 "nbformat": 4,
 "nbformat_minor": 1
}
